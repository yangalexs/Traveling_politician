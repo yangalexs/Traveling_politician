{
 "cells": [
  {
   "cell_type": "code",
   "outputs": [],
   "source": [
    "# This code provides a solution for the most efficient route for politician to travel in order to visit all fifty state capitals, starting in Iowa and ending in DC.\n",
    "# The shortest route is found through using geopy to calculate the distance between the capital's longitude and latitude coordinates, and itertools permutations to generate different route combinations.\n",
    "# Due to the amount of locations, the capitals have to be grouped into clusters to avoid the system overloading from the amount of permutations all 50 states would create if calculated as one group.\n",
    "# The first cluster's route must start in Iowa, and the last cluster's route must end in DC. \n",
    "# All other cluster's will be linked together by adding conditions to make the cluster route beginning with whatever location the previous cluster's route ended with.\n",
    "# Once the minimum routes are found for each cluster the total distances of those routes will be added together and the systen will output the total distance and the shortest route for the politician to travel.\n",
    "import pandas as pd # import pandas to read and manipulate csv file\n",
    "import matplotlib.pyplot as plt #import matplotlib to create scatter plot\n",
    "from sklearn.cluster import KMeans #import sklearn to location on scatter plot into cluster (you may have to import as scikit to get it to install correcting.\n",
    "import folium #import folium to create interactive map of the USA to act as a visual aid for ease of development\n",
    "import itertools # import itertools to help create permutation of different possible routes\n",
    "from geopy.distance import geodesic #import geopy to calculate distances between different longitudes and latitudes"
   ],
   "metadata": {
    "collapsed": false,
    "ExecuteTime": {
     "end_time": "2024-01-25T23:49:03.190111800Z",
     "start_time": "2024-01-25T23:49:01.009797500Z"
    }
   },
   "id": "24b5c61f610b491c",
   "execution_count": 1
  },
  {
   "cell_type": "code",
   "outputs": [
    {
     "name": "stdout",
     "output_type": "stream",
     "text": [
      "              name            city   latitude   longitude  zipcode\n",
      "0          Alabama      Montgomery  32.377716  -86.300568    36101\n",
      "1           Alaska          Juneau  58.301598 -134.420212    99801\n",
      "2          Arizona         Phoenix  33.448143 -112.096962    85001\n",
      "3         Arkansas     Little Rock  34.746613  -92.288986    72201\n",
      "4       California      Sacramento  38.576668 -121.493629    94203\n",
      "5         Colorado          Denver  39.739227 -104.984856    80201\n",
      "6      Connecticut    Hartford<br>  41.764046  -72.682198     6101\n",
      "7         Delaware           Dover  39.157307  -75.519722    19901\n",
      "8              DC       Washington  38.895000  -77.036600    20500\n",
      "9           Hawaii        Honolulu  21.307442 -157.857376    32301\n",
      "10         Florida     Tallahassee  30.438118  -84.281296    30301\n",
      "11         Georgia     Atlanta<br>  33.749027  -84.388229    96801\n",
      "12           Idaho           Boise  43.617775 -116.199722    83702\n",
      "13        Illinois     Springfield  39.798363  -89.654961    62701\n",
      "14         Indiana    Indianapolis  39.768623  -86.162643    46201\n",
      "15            Iowa      Des Moines  41.591087  -93.603729    50301\n",
      "16          Kansas          Topeka  39.048191  -95.677956    66601\n",
      "17        Kentucky       Frankfort  38.186722  -84.875374    40601\n",
      "18       Louisiana     Baton Rouge  30.457069  -91.187393    70801\n",
      "19           Maine         Augusta  44.307167  -69.781693     4330\n",
      "20        Maryland       Annapolis  38.978764  -76.490936    21401\n",
      "21   Massachusetts          Boston  42.358162  -71.063698     2108\n",
      "22        Michigan         Lansing  42.733635  -84.555328    48901\n",
      "23       Minnesota        St. Paul  44.955097  -93.102211    55101\n",
      "24     Mississippi         Jackson  32.303848  -90.182106    39201\n",
      "25        Missouri  Jefferson City  38.579201  -92.172935    65101\n",
      "26         Montana          Helena  46.585709 -112.018417    59601\n",
      "27        Nebraska         Lincoln  40.808075  -96.699654    68501\n",
      "28          Nevada     Carson City  39.163914 -119.766121    89701\n",
      "29   New Hampshire         Concord  43.206898  -71.537994     3301\n",
      "30      New Jersey         Trenton  40.220596  -74.769913     8601\n",
      "31      New Mexico        Santa Fe  35.682240 -105.939728    87501\n",
      "32  North Carolina         Raleigh  35.780430  -78.639099    12201\n",
      "33    North Dakota        Bismarck  46.820850 -100.783318    27601\n",
      "34        New York          Albany  42.652843  -73.757874    58501\n",
      "35            Ohio        Columbus  39.961346  -82.999069    43201\n",
      "36        Oklahoma   Oklahoma City  35.492207  -97.503342    73101\n",
      "37          Oregon           Salem  44.938461 -123.030403    97301\n",
      "38    Pennsylvania      Harrisburg  40.264378  -76.883598    17101\n",
      "39    Rhode Island      Providence  41.830914  -71.414963     2901\n",
      "40  South Carolina        Columbia  34.000343  -81.033211    29201\n",
      "41    South Dakota          Pierre  44.367031 -100.346405    57501\n",
      "42       Tennessee       Nashville  36.165810  -86.784241    37201\n",
      "43           Texas          Austin  30.274670  -97.740349    78701\n",
      "44            Utah  Salt Lake City  40.777477 -111.888237    84101\n",
      "45         Vermont      Montpelier  44.262436  -72.580536     5601\n",
      "46        Virginia        Richmond  37.538857  -77.433640    23218\n",
      "47      Washington         Olympia  47.035805 -122.905014    98501\n",
      "48   West Virginia      Charleston  38.336246  -81.612328    25301\n",
      "49       Wisconsin         Madison  43.074684  -89.384445    53701\n",
      "50         Wyoming        Cheyenne  41.140259 -104.820236    82001\n"
     ]
    }
   ],
   "source": [
    "# Add CSV file\n",
    "capitals = pd.read_csv(r\"C:\\Users\\lmhmo\\PycharmProjects\\Traveling_Politcian\\.venv\\us-state-capitals.csv\") #Read CSV file(If you keep getting an error saying \"File not found in directory\" you may have to include the entire path for the csv file instead of just writing \"us-state-capitals.csv\")\n",
    "print(capitals) #Print CSV file to make sure all that the names of every USA capital and their state are available, along with its longitude and latitude."
   ],
   "metadata": {
    "collapsed": false,
    "ExecuteTime": {
     "end_time": "2024-01-25T23:49:03.260163200Z",
     "start_time": "2024-01-25T23:49:03.193112Z"
    }
   },
   "id": "5efab83961570848",
   "execution_count": 2
  },
  {
   "cell_type": "code",
   "outputs": [
    {
     "data": {
      "text/plain": "<Figure size 640x480 with 1 Axes>",
      "image/png": "[encoded data removed]"
     },
     "metadata": {},
     "output_type": "display_data"
    }
   ],
   "source": [
    "#Use matplotlib to create a scatter plot that maps the location of every capital.\n",
    "plt.scatter(capitals['longitude'], capitals['latitude']) #Use longitude and latitude data to place capitals in proper locations on scatter plot.\n",
    "plt.show() #display plot"
   ],
   "metadata": {
    "collapsed": false,
    "ExecuteTime": {
     "end_time": "2024-01-25T23:49:03.415395600Z",
     "start_time": "2024-01-25T23:49:03.217163300Z"
    }
   },
   "id": "cad95dc4930f1afc",
   "execution_count": 3
  },
  {
   "cell_type": "code",
   "outputs": [],
   "source": [
    "#Use Kmeans to create clusters\n",
    "# Create a KMeans instance with the desired number of clusters and n_init\n",
    "kmeans = KMeans(n_clusters=14, n_init=5, random_state=42) #n_clusters = numbers of clusters you want to create, n-init = desired numbers of capitals in each clusters, random state will ensure that the program allow breaks up the cluster into the same groups, regardless of how many times the program will run.\n",
    "# Fit the model to the longitude and latitude data\n",
    "kmeans.fit(capitals[['longitude', 'latitude']]) # Run k-means clustering on the capitals' coordinates and assign them to clusters\n",
    "# Predict the cluster for each data point\n",
    "capitals['cluster'] = kmeans.predict(capitals[['longitude', 'latitude']])# Assign cluster labels to the capitals based on their coordinates"
   ],
   "metadata": {
    "collapsed": false,
    "ExecuteTime": {
     "end_time": "2024-01-25T23:49:03.701956700Z",
     "start_time": "2024-01-25T23:49:03.418085700Z"
    }
   },
   "id": "cb1d7809c0b776d1",
   "execution_count": 4
  },
  {
   "cell_type": "code",
   "outputs": [
    {
     "data": {
      "text/plain": "<Figure size 640x480 with 1 Axes>",
      "image/png": "[encoded data removed]"
     },
     "metadata": {},
     "output_type": "display_data"
    }
   ],
   "source": [
    "#Create new scatter plot using Matplotlib to show the clusters that were created by Kmeans \n",
    "plt.scatter(capitals['longitude'], capitals['latitude'], c=capitals['cluster']) #Use longitude and latitude data to place capitals in proper locations on scatter plot.\n",
    "plt.show() #display scatter plot"
   ],
   "metadata": {
    "collapsed": false,
    "ExecuteTime": {
     "end_time": "2024-01-25T23:49:03.960119900Z",
     "start_time": "2024-01-25T23:49:03.705957200Z"
    }
   },
   "id": "b9e4f6354dd2a362",
   "execution_count": 5
  },
  {
   "cell_type": "code",
   "outputs": [
    {
     "data": {
      "text/plain": "<Figure size 640x480 with 1 Axes>",
      "image/png": "[encoded data removed]"
     },
     "metadata": {},
     "output_type": "display_data"
    }
   ],
   "source": [
    "# Update scatter plot so that each cluster corresponds to a number\n",
    "plt.scatter(capitals['longitude'], capitals['latitude'], c=capitals['cluster']) #create new scatter plot still using the coordinates data.\n",
    "centers = kmeans.cluster_centers_# Calculate the cluster centers\n",
    "# Loop through the cluster centers\n",
    "for i, center in enumerate(centers):\n",
    "    # Annotate the plot with the cluster numbers at the cluster centers\n",
    "    plt.annotate(i, (center[0], center[1]), fontsize=12, color='red')\n",
    "plt.show() #display plot"
   ],
   "metadata": {
    "collapsed": false,
    "ExecuteTime": {
     "end_time": "2024-01-25T23:49:04.221910900Z",
     "start_time": "2024-01-25T23:49:03.954477Z"
    }
   },
   "id": "1f8fa47303ab2569",
   "execution_count": 6
  },
  {
   "cell_type": "code",
   "outputs": [
    {
     "data": {
      "text/plain": "<folium.folium.Map at 0x1e32f5be7e0>",
      "text/html": "<div style=\"width:100%;\"><div style=\"position:relative;width:100%;height:0;padding-bottom:60%;\"><span style=\"color:#565656\">Make this Notebook Trusted to load map: File -> Trust Notebook</span><iframe srcdoc=\"&lt;!DOCTYPE html&gt;\n&lt;html&gt;\n&lt;head&gt;\n    \n    &lt;meta http-equiv=&quot;content-type&quot; content=&quot;text/html; charset=UTF-8&quot; /&gt;\n    \n        &lt;script&gt;\n            L_NO_TOUCH = false;\n            L_DISABLE_3D = false;\n        &lt;/script&gt;\n    \n    &lt;style&gt;html, body {width: 100%;height: 100%;margin: 0;padding: 0;}&lt;/style&gt;\n    &lt;style&gt;#map {position:absolute;top:0;bottom:0;right:0;left:0;}&lt;/style&gt;\n    &lt;script src=&quot;https://cdn.jsdelivr.net/npm/leaflet@1.9.3/dist/leaflet.js&quot;&gt;&lt;/script&gt;\n    &lt;script src=&quot;https://code.jquery.com/jquery-3.7.1.min.js&quot;&gt;&lt;/script&gt;\n    &lt;script src=&quot;https://cdn.jsdelivr.net/npm/bootstrap@5.2.2/dist/js/bootstrap.bundle.min.js&quot;&gt;&lt;/script&gt;\n    &lt;script src=&quot;https://cdnjs.cloudflare.com/ajax/libs/Leaflet.awesome-markers/2.0.2/leaflet.awesome-markers.js&quot;&gt;&lt;/script&gt;\n    &lt;link rel=&quot;stylesheet&quot; href=&quot;https://cdn.jsdelivr.net/npm/leaflet@1.9.3/dist/leaflet.css&quot;/&gt;\n    &lt;link rel=&quot;stylesheet&quot; href=&quot;https://cdn.jsdelivr.net/npm/bootstrap@5.2.2/dist/css/bootstrap.min.css&quot;/&gt;\n    &lt;link rel=&quot;stylesheet&quot; href=&quot;https://netdna.bootstrapcdn.com/bootstrap/3.0.0/css/bootstrap.min.css&quot;/&gt;\n    &lt;link rel=&quot;stylesheet&quot; href=&quot;https://cdn.jsdelivr.net/npm/@fortawesome/fontawesome-free@6.2.0/css/all.min.css&quot;/&gt;\n    &lt;link rel=&quot;stylesheet&quot; href=&quot;https://cdnjs.cloudflare.com/ajax/libs/Leaflet.awesome-markers/2.0.2/leaflet.awesome-markers.css&quot;/&gt;\n    &lt;link rel=&quot;stylesheet&quot; href=&quot;https://cdn.jsdelivr.net/gh/python-visualization/folium/folium/templates/leaflet.awesome.rotate.min.css&quot;/&gt;\n    \n            &lt;meta name=&quot;viewport&quot; content=&quot;width=device-width,\n                initial-scale=1.0, maximum-scale=1.0, user-scalable=no&quot; /&gt;\n            &lt;style&gt;\n                #map_3adbda31cf296fd43edd80f9b02b1233 {\n                    position: relative;\n                    width: 100.0%;\n                    height: 100.0%;\n                    left: 0.0%;\n                    top: 0.0%;\n                }\n                .leaflet-container { font-size: 1rem; }\n            &lt;/style&gt;\n        \n&lt;/head&gt;\n&lt;body&gt;\n    \n    \n            &lt;div class=&quot;folium-map&quot; id=&quot;map_3adbda31cf296fd43edd80f9b02b1233&quot; &gt;&lt;/div&gt;\n        \n&lt;/body&gt;\n&lt;script&gt;\n    \n    \n            var map_3adbda31cf296fd43edd80f9b02b1233 = L.map(\n                &quot;map_3adbda31cf296fd43edd80f9b02b1233&quot;,\n                {\n                    center: [39.403276235294115, -93.14379321568624],\n                    crs: L.CRS.EPSG3857,\n                    zoom: 4,\n                    zoomControl: true,\n                    preferCanvas: false,\n                }\n            );\n\n            \n\n        \n    \n            var tile_layer_9fb562a293b6cba66a9d853a55c258a0 = L.tileLayer(\n                &quot;https://tile.openstreetmap.org/{z}/{x}/{y}.png&quot;,\n                {&quot;attribution&quot;: &quot;\\u0026copy; \\u003ca href=\\&quot;https://www.openstreetmap.org/copyright\\&quot;\\u003eOpenStreetMap\\u003c/a\\u003e contributors&quot;, &quot;detectRetina&quot;: false, &quot;maxNativeZoom&quot;: 19, &quot;maxZoom&quot;: 19, &quot;minZoom&quot;: 0, &quot;noWrap&quot;: false, &quot;opacity&quot;: 1, &quot;subdomains&quot;: &quot;abc&quot;, &quot;tms&quot;: false}\n            );\n        \n    \n            tile_layer_9fb562a293b6cba66a9d853a55c258a0.addTo(map_3adbda31cf296fd43edd80f9b02b1233);\n        \n    \n            var circle_marker_fc900b106bd966a06fbc6c60c32295e9 = L.circleMarker(\n                [32.377716, -86.300568],\n                {&quot;bubblingMouseEvents&quot;: true, &quot;color&quot;: &quot;darkred&quot;, &quot;dashArray&quot;: null, &quot;dashOffset&quot;: null, &quot;fill&quot;: true, &quot;fillColor&quot;: &quot;darkred&quot;, &quot;fillOpacity&quot;: 0.2, &quot;fillRule&quot;: &quot;evenodd&quot;, &quot;lineCap&quot;: &quot;round&quot;, &quot;lineJoin&quot;: &quot;round&quot;, &quot;opacity&quot;: 1.0, &quot;radius&quot;: 5, &quot;stroke&quot;: true, &quot;weight&quot;: 3}\n            ).addTo(map_3adbda31cf296fd43edd80f9b02b1233);\n        \n    \n            circle_marker_fc900b106bd966a06fbc6c60c32295e9.bindTooltip(\n                `&lt;div&gt;\n                     Alabama (Cluster 12)\n                 &lt;/div&gt;`,\n                {&quot;sticky&quot;: true}\n            );\n        \n    \n            var circle_marker_a60dd70a87933cf5649592a1806befdc = L.circleMarker(\n                [58.301598, -134.420212],\n                {&quot;bubblingMouseEvents&quot;: true, &quot;color&quot;: &quot;gray&quot;, &quot;dashArray&quot;: null, &quot;dashOffset&quot;: null, &quot;fill&quot;: true, &quot;fillColor&quot;: &quot;gray&quot;, &quot;fillOpacity&quot;: 0.2, &quot;fillRule&quot;: &quot;evenodd&quot;, &quot;lineCap&quot;: &quot;round&quot;, &quot;lineJoin&quot;: &quot;round&quot;, &quot;opacity&quot;: 1.0, &quot;radius&quot;: 5, &quot;stroke&quot;: true, &quot;weight&quot;: 3}\n            ).addTo(map_3adbda31cf296fd43edd80f9b02b1233);\n        \n    \n            circle_marker_a60dd70a87933cf5649592a1806befdc.bindTooltip(\n                `&lt;div&gt;\n                     Alaska (Cluster 8)\n                 &lt;/div&gt;`,\n                {&quot;sticky&quot;: true}\n            );\n        \n    \n            var circle_marker_f9bc0d01e147c752947b511ed8e55446 = L.circleMarker(\n                [33.448143, -112.096962],\n                {&quot;bubblingMouseEvents&quot;: true, &quot;color&quot;: &quot;yellow&quot;, &quot;dashArray&quot;: null, &quot;dashOffset&quot;: null, &quot;fill&quot;: true, &quot;fillColor&quot;: &quot;yellow&quot;, &quot;fillOpacity&quot;: 0.2, &quot;fillRule&quot;: &quot;evenodd&quot;, &quot;lineCap&quot;: &quot;round&quot;, &quot;lineJoin&quot;: &quot;round&quot;, &quot;opacity&quot;: 1.0, &quot;radius&quot;: 5, &quot;stroke&quot;: true, &quot;weight&quot;: 3}\n            ).addTo(map_3adbda31cf296fd43edd80f9b02b1233);\n        \n    \n            circle_marker_f9bc0d01e147c752947b511ed8e55446.bindTooltip(\n                `&lt;div&gt;\n                     Arizona (Cluster 10)\n                 &lt;/div&gt;`,\n                {&quot;sticky&quot;: true}\n            );\n        \n    \n            var circle_marker_8a69c1a264142b674a03ef86c760b702 = L.circleMarker(\n                [34.746613, -92.288986],\n                {&quot;bubblingMouseEvents&quot;: true, &quot;color&quot;: &quot;purple&quot;, &quot;dashArray&quot;: null, &quot;dashOffset&quot;: null, &quot;fill&quot;: true, &quot;fillColor&quot;: &quot;purple&quot;, &quot;fillOpacity&quot;: 0.2, &quot;fillRule&quot;: &quot;evenodd&quot;, &quot;lineCap&quot;: &quot;round&quot;, &quot;lineJoin&quot;: &quot;round&quot;, &quot;opacity&quot;: 1.0, &quot;radius&quot;: 5, &quot;stroke&quot;: true, &quot;weight&quot;: 3}\n            ).addTo(map_3adbda31cf296fd43edd80f9b02b1233);\n        \n    \n            circle_marker_8a69c1a264142b674a03ef86c760b702.bindTooltip(\n                `&lt;div&gt;\n                     Arkansas (Cluster 3)\n                 &lt;/div&gt;`,\n                {&quot;sticky&quot;: true}\n            );\n        \n    \n            var circle_marker_ab07d66cc942e4af643f420f2ed49809 = L.circleMarker(\n                [38.576668, -121.493629],\n                {&quot;bubblingMouseEvents&quot;: true, &quot;color&quot;: &quot;pink&quot;, &quot;dashArray&quot;: null, &quot;dashOffset&quot;: null, &quot;fill&quot;: true, &quot;fillColor&quot;: &quot;pink&quot;, &quot;fillOpacity&quot;: 0.2, &quot;fillRule&quot;: &quot;evenodd&quot;, &quot;lineCap&quot;: &quot;round&quot;, &quot;lineJoin&quot;: &quot;round&quot;, &quot;opacity&quot;: 1.0, &quot;radius&quot;: 5, &quot;stroke&quot;: true, &quot;weight&quot;: 3}\n            ).addTo(map_3adbda31cf296fd43edd80f9b02b1233);\n        \n    \n            circle_marker_ab07d66cc942e4af643f420f2ed49809.bindTooltip(\n                `&lt;div&gt;\n                     California (Cluster 11)\n                 &lt;/div&gt;`,\n                {&quot;sticky&quot;: true}\n            );\n        \n    \n            var circle_marker_65814d67d9b4f6d8e4b7dbdce9eacd75 = L.circleMarker(\n                [39.739227, -104.984856],\n                {&quot;bubblingMouseEvents&quot;: true, &quot;color&quot;: &quot;yellow&quot;, &quot;dashArray&quot;: null, &quot;dashOffset&quot;: null, &quot;fill&quot;: true, &quot;fillColor&quot;: &quot;yellow&quot;, &quot;fillOpacity&quot;: 0.2, &quot;fillRule&quot;: &quot;evenodd&quot;, &quot;lineCap&quot;: &quot;round&quot;, &quot;lineJoin&quot;: &quot;round&quot;, &quot;opacity&quot;: 1.0, &quot;radius&quot;: 5, &quot;stroke&quot;: true, &quot;weight&quot;: 3}\n            ).addTo(map_3adbda31cf296fd43edd80f9b02b1233);\n        \n    \n            circle_marker_65814d67d9b4f6d8e4b7dbdce9eacd75.bindTooltip(\n                `&lt;div&gt;\n                     Colorado (Cluster 10)\n                 &lt;/div&gt;`,\n                {&quot;sticky&quot;: true}\n            );\n        \n    \n            var circle_marker_e733db45658e8469f2a5e645470778f7 = L.circleMarker(\n                [41.764046, -72.682198],\n                {&quot;bubblingMouseEvents&quot;: true, &quot;color&quot;: &quot;darkred&quot;, &quot;dashArray&quot;: null, &quot;dashOffset&quot;: null, &quot;fill&quot;: true, &quot;fillColor&quot;: &quot;darkred&quot;, &quot;fillOpacity&quot;: 0.2, &quot;fillRule&quot;: &quot;evenodd&quot;, &quot;lineCap&quot;: &quot;round&quot;, &quot;lineJoin&quot;: &quot;round&quot;, &quot;opacity&quot;: 1.0, &quot;radius&quot;: 5, &quot;stroke&quot;: true, &quot;weight&quot;: 3}\n            ).addTo(map_3adbda31cf296fd43edd80f9b02b1233);\n        \n    \n            circle_marker_e733db45658e8469f2a5e645470778f7.bindTooltip(\n                `&lt;div&gt;\n                     Connecticut (Cluster 5)\n                 &lt;/div&gt;`,\n                {&quot;sticky&quot;: true}\n            );\n        \n    \n            var circle_marker_63dc374db83e142357d98faea99b5b7a = L.circleMarker(\n                [39.157307, -75.519722],\n                {&quot;bubblingMouseEvents&quot;: true, &quot;color&quot;: &quot;darkblue&quot;, &quot;dashArray&quot;: null, &quot;dashOffset&quot;: null, &quot;fill&quot;: true, &quot;fillColor&quot;: &quot;darkblue&quot;, &quot;fillOpacity&quot;: 0.2, &quot;fillRule&quot;: &quot;evenodd&quot;, &quot;lineCap&quot;: &quot;round&quot;, &quot;lineJoin&quot;: &quot;round&quot;, &quot;opacity&quot;: 1.0, &quot;radius&quot;: 5, &quot;stroke&quot;: true, &quot;weight&quot;: 3}\n            ).addTo(map_3adbda31cf296fd43edd80f9b02b1233);\n        \n    \n            circle_marker_63dc374db83e142357d98faea99b5b7a.bindTooltip(\n                `&lt;div&gt;\n                     Delaware (Cluster 13)\n                 &lt;/div&gt;`,\n                {&quot;sticky&quot;: true}\n            );\n        \n    \n            var circle_marker_630ef61de3f27710a04888fd10fa4bd3 = L.circleMarker(\n                [38.895, -77.0366],\n                {&quot;bubblingMouseEvents&quot;: true, &quot;color&quot;: &quot;darkblue&quot;, &quot;dashArray&quot;: null, &quot;dashOffset&quot;: null, &quot;fill&quot;: true, &quot;fillColor&quot;: &quot;darkblue&quot;, &quot;fillOpacity&quot;: 0.2, &quot;fillRule&quot;: &quot;evenodd&quot;, &quot;lineCap&quot;: &quot;round&quot;, &quot;lineJoin&quot;: &quot;round&quot;, &quot;opacity&quot;: 1.0, &quot;radius&quot;: 5, &quot;stroke&quot;: true, &quot;weight&quot;: 3}\n            ).addTo(map_3adbda31cf296fd43edd80f9b02b1233);\n        \n    \n            circle_marker_630ef61de3f27710a04888fd10fa4bd3.bindTooltip(\n                `&lt;div&gt;\n                     DC  (Cluster 13)\n                 &lt;/div&gt;`,\n                {&quot;sticky&quot;: true}\n            );\n        \n    \n            var circle_marker_dd3af2c7b51aa002f67e691c7dc97c19 = L.circleMarker(\n                [21.307442, -157.857376],\n                {&quot;bubblingMouseEvents&quot;: true, &quot;color&quot;: &quot;orange&quot;, &quot;dashArray&quot;: null, &quot;dashOffset&quot;: null, &quot;fill&quot;: true, &quot;fillColor&quot;: &quot;orange&quot;, &quot;fillOpacity&quot;: 0.2, &quot;fillRule&quot;: &quot;evenodd&quot;, &quot;lineCap&quot;: &quot;round&quot;, &quot;lineJoin&quot;: &quot;round&quot;, &quot;opacity&quot;: 1.0, &quot;radius&quot;: 5, &quot;stroke&quot;: true, &quot;weight&quot;: 3}\n            ).addTo(map_3adbda31cf296fd43edd80f9b02b1233);\n        \n    \n            circle_marker_dd3af2c7b51aa002f67e691c7dc97c19.bindTooltip(\n                `&lt;div&gt;\n                     Hawaii (Cluster 4)\n                 &lt;/div&gt;`,\n                {&quot;sticky&quot;: true}\n            );\n        \n    \n            var circle_marker_c34cc9890c0003884917bb2225dd8a8a = L.circleMarker(\n                [30.438118, -84.281296],\n                {&quot;bubblingMouseEvents&quot;: true, &quot;color&quot;: &quot;darkred&quot;, &quot;dashArray&quot;: null, &quot;dashOffset&quot;: null, &quot;fill&quot;: true, &quot;fillColor&quot;: &quot;darkred&quot;, &quot;fillOpacity&quot;: 0.2, &quot;fillRule&quot;: &quot;evenodd&quot;, &quot;lineCap&quot;: &quot;round&quot;, &quot;lineJoin&quot;: &quot;round&quot;, &quot;opacity&quot;: 1.0, &quot;radius&quot;: 5, &quot;stroke&quot;: true, &quot;weight&quot;: 3}\n            ).addTo(map_3adbda31cf296fd43edd80f9b02b1233);\n        \n    \n            circle_marker_c34cc9890c0003884917bb2225dd8a8a.bindTooltip(\n                `&lt;div&gt;\n                     Florida (Cluster 12)\n                 &lt;/div&gt;`,\n                {&quot;sticky&quot;: true}\n            );\n        \n    \n            var circle_marker_6831490d06bc0d5fb2794d82badb8fc2 = L.circleMarker(\n                [33.749027, -84.388229],\n                {&quot;bubblingMouseEvents&quot;: true, &quot;color&quot;: &quot;darkred&quot;, &quot;dashArray&quot;: null, &quot;dashOffset&quot;: null, &quot;fill&quot;: true, &quot;fillColor&quot;: &quot;darkred&quot;, &quot;fillOpacity&quot;: 0.2, &quot;fillRule&quot;: &quot;evenodd&quot;, &quot;lineCap&quot;: &quot;round&quot;, &quot;lineJoin&quot;: &quot;round&quot;, &quot;opacity&quot;: 1.0, &quot;radius&quot;: 5, &quot;stroke&quot;: true, &quot;weight&quot;: 3}\n            ).addTo(map_3adbda31cf296fd43edd80f9b02b1233);\n        \n    \n            circle_marker_6831490d06bc0d5fb2794d82badb8fc2.bindTooltip(\n                `&lt;div&gt;\n                     Georgia (Cluster 12)\n                 &lt;/div&gt;`,\n                {&quot;sticky&quot;: true}\n            );\n        \n    \n            var circle_marker_55a859fa85d00cab4554178ab6e0faed = L.circleMarker(\n                [43.617775, -116.199722],\n                {&quot;bubblingMouseEvents&quot;: true, &quot;color&quot;: &quot;lightblue&quot;, &quot;dashArray&quot;: null, &quot;dashOffset&quot;: null, &quot;fill&quot;: true, &quot;fillColor&quot;: &quot;lightblue&quot;, &quot;fillOpacity&quot;: 0.2, &quot;fillRule&quot;: &quot;evenodd&quot;, &quot;lineCap&quot;: &quot;round&quot;, &quot;lineJoin&quot;: &quot;round&quot;, &quot;opacity&quot;: 1.0, &quot;radius&quot;: 5, &quot;stroke&quot;: true, &quot;weight&quot;: 3}\n            ).addTo(map_3adbda31cf296fd43edd80f9b02b1233);\n        \n    \n            circle_marker_55a859fa85d00cab4554178ab6e0faed.bindTooltip(\n                `&lt;div&gt;\n                     Idaho (Cluster 6)\n                 &lt;/div&gt;`,\n                {&quot;sticky&quot;: true}\n            );\n        \n    \n            var circle_marker_cd4c1d62d7c659cb368b8ae0c33efea2 = L.circleMarker(\n                [39.798363, -89.654961],\n                {&quot;bubblingMouseEvents&quot;: true, &quot;color&quot;: &quot;black&quot;, &quot;dashArray&quot;: null, &quot;dashOffset&quot;: null, &quot;fill&quot;: true, &quot;fillColor&quot;: &quot;black&quot;, &quot;fillOpacity&quot;: 0.2, &quot;fillRule&quot;: &quot;evenodd&quot;, &quot;lineCap&quot;: &quot;round&quot;, &quot;lineJoin&quot;: &quot;round&quot;, &quot;opacity&quot;: 1.0, &quot;radius&quot;: 5, &quot;stroke&quot;: true, &quot;weight&quot;: 3}\n            ).addTo(map_3adbda31cf296fd43edd80f9b02b1233);\n        \n    \n            circle_marker_cd4c1d62d7c659cb368b8ae0c33efea2.bindTooltip(\n                `&lt;div&gt;\n                     Illinois (Cluster 9)\n                 &lt;/div&gt;`,\n                {&quot;sticky&quot;: true}\n            );\n        \n    \n            var circle_marker_32142b17b130cabcc3a49daf66f687bb = L.circleMarker(\n                [39.768623, -86.162643],\n                {&quot;bubblingMouseEvents&quot;: true, &quot;color&quot;: &quot;black&quot;, &quot;dashArray&quot;: null, &quot;dashOffset&quot;: null, &quot;fill&quot;: true, &quot;fillColor&quot;: &quot;black&quot;, &quot;fillOpacity&quot;: 0.2, &quot;fillRule&quot;: &quot;evenodd&quot;, &quot;lineCap&quot;: &quot;round&quot;, &quot;lineJoin&quot;: &quot;round&quot;, &quot;opacity&quot;: 1.0, &quot;radius&quot;: 5, &quot;stroke&quot;: true, &quot;weight&quot;: 3}\n            ).addTo(map_3adbda31cf296fd43edd80f9b02b1233);\n        \n    \n            circle_marker_32142b17b130cabcc3a49daf66f687bb.bindTooltip(\n                `&lt;div&gt;\n                     Indiana (Cluster 9)\n                 &lt;/div&gt;`,\n                {&quot;sticky&quot;: true}\n            );\n        \n    \n            var circle_marker_61aff3fc0b2126996fcc36666fcc0e99 = L.circleMarker(\n                [41.591087, -93.603729],\n                {&quot;bubblingMouseEvents&quot;: true, &quot;color&quot;: &quot;pink&quot;, &quot;dashArray&quot;: null, &quot;dashOffset&quot;: null, &quot;fill&quot;: true, &quot;fillColor&quot;: &quot;pink&quot;, &quot;fillOpacity&quot;: 0.2, &quot;fillRule&quot;: &quot;evenodd&quot;, &quot;lineCap&quot;: &quot;round&quot;, &quot;lineJoin&quot;: &quot;round&quot;, &quot;opacity&quot;: 1.0, &quot;radius&quot;: 5, &quot;stroke&quot;: true, &quot;weight&quot;: 3}\n            ).addTo(map_3adbda31cf296fd43edd80f9b02b1233);\n        \n    \n            circle_marker_61aff3fc0b2126996fcc36666fcc0e99.bindTooltip(\n                `&lt;div&gt;\n                     Iowa (Cluster 7)\n                 &lt;/div&gt;`,\n                {&quot;sticky&quot;: true}\n            );\n        \n    \n            var circle_marker_06255f12bed4a7e92aecbc4e37ef42b5 = L.circleMarker(\n                [39.048191, -95.677956],\n                {&quot;bubblingMouseEvents&quot;: true, &quot;color&quot;: &quot;pink&quot;, &quot;dashArray&quot;: null, &quot;dashOffset&quot;: null, &quot;fill&quot;: true, &quot;fillColor&quot;: &quot;pink&quot;, &quot;fillOpacity&quot;: 0.2, &quot;fillRule&quot;: &quot;evenodd&quot;, &quot;lineCap&quot;: &quot;round&quot;, &quot;lineJoin&quot;: &quot;round&quot;, &quot;opacity&quot;: 1.0, &quot;radius&quot;: 5, &quot;stroke&quot;: true, &quot;weight&quot;: 3}\n            ).addTo(map_3adbda31cf296fd43edd80f9b02b1233);\n        \n    \n            circle_marker_06255f12bed4a7e92aecbc4e37ef42b5.bindTooltip(\n                `&lt;div&gt;\n                     Kansas (Cluster 7)\n                 &lt;/div&gt;`,\n                {&quot;sticky&quot;: true}\n            );\n        \n    \n            var circle_marker_678f9fed7404de4885712f628ab62706 = L.circleMarker(\n                [38.186722, -84.875374],\n                {&quot;bubblingMouseEvents&quot;: true, &quot;color&quot;: &quot;black&quot;, &quot;dashArray&quot;: null, &quot;dashOffset&quot;: null, &quot;fill&quot;: true, &quot;fillColor&quot;: &quot;black&quot;, &quot;fillOpacity&quot;: 0.2, &quot;fillRule&quot;: &quot;evenodd&quot;, &quot;lineCap&quot;: &quot;round&quot;, &quot;lineJoin&quot;: &quot;round&quot;, &quot;opacity&quot;: 1.0, &quot;radius&quot;: 5, &quot;stroke&quot;: true, &quot;weight&quot;: 3}\n            ).addTo(map_3adbda31cf296fd43edd80f9b02b1233);\n        \n    \n            circle_marker_678f9fed7404de4885712f628ab62706.bindTooltip(\n                `&lt;div&gt;\n                     Kentucky (Cluster 9)\n                 &lt;/div&gt;`,\n                {&quot;sticky&quot;: true}\n            );\n        \n    \n            var circle_marker_22ea8b321f5a541b3dfc1977c8aef209 = L.circleMarker(\n                [30.457069, -91.187393],\n                {&quot;bubblingMouseEvents&quot;: true, &quot;color&quot;: &quot;purple&quot;, &quot;dashArray&quot;: null, &quot;dashOffset&quot;: null, &quot;fill&quot;: true, &quot;fillColor&quot;: &quot;purple&quot;, &quot;fillOpacity&quot;: 0.2, &quot;fillRule&quot;: &quot;evenodd&quot;, &quot;lineCap&quot;: &quot;round&quot;, &quot;lineJoin&quot;: &quot;round&quot;, &quot;opacity&quot;: 1.0, &quot;radius&quot;: 5, &quot;stroke&quot;: true, &quot;weight&quot;: 3}\n            ).addTo(map_3adbda31cf296fd43edd80f9b02b1233);\n        \n    \n            circle_marker_22ea8b321f5a541b3dfc1977c8aef209.bindTooltip(\n                `&lt;div&gt;\n                     Louisiana (Cluster 3)\n                 &lt;/div&gt;`,\n                {&quot;sticky&quot;: true}\n            );\n        \n    \n            var circle_marker_d802b143787863e8318a34f0a8b5f529 = L.circleMarker(\n                [44.307167, -69.781693],\n                {&quot;bubblingMouseEvents&quot;: true, &quot;color&quot;: &quot;darkred&quot;, &quot;dashArray&quot;: null, &quot;dashOffset&quot;: null, &quot;fill&quot;: true, &quot;fillColor&quot;: &quot;darkred&quot;, &quot;fillOpacity&quot;: 0.2, &quot;fillRule&quot;: &quot;evenodd&quot;, &quot;lineCap&quot;: &quot;round&quot;, &quot;lineJoin&quot;: &quot;round&quot;, &quot;opacity&quot;: 1.0, &quot;radius&quot;: 5, &quot;stroke&quot;: true, &quot;weight&quot;: 3}\n            ).addTo(map_3adbda31cf296fd43edd80f9b02b1233);\n        \n    \n            circle_marker_d802b143787863e8318a34f0a8b5f529.bindTooltip(\n                `&lt;div&gt;\n                     Maine (Cluster 5)\n                 &lt;/div&gt;`,\n                {&quot;sticky&quot;: true}\n            );\n        \n    \n            var circle_marker_ff96a4045999a927adc3c18aca57445b = L.circleMarker(\n                [38.978764, -76.490936],\n                {&quot;bubblingMouseEvents&quot;: true, &quot;color&quot;: &quot;darkblue&quot;, &quot;dashArray&quot;: null, &quot;dashOffset&quot;: null, &quot;fill&quot;: true, &quot;fillColor&quot;: &quot;darkblue&quot;, &quot;fillOpacity&quot;: 0.2, &quot;fillRule&quot;: &quot;evenodd&quot;, &quot;lineCap&quot;: &quot;round&quot;, &quot;lineJoin&quot;: &quot;round&quot;, &quot;opacity&quot;: 1.0, &quot;radius&quot;: 5, &quot;stroke&quot;: true, &quot;weight&quot;: 3}\n            ).addTo(map_3adbda31cf296fd43edd80f9b02b1233);\n        \n    \n            circle_marker_ff96a4045999a927adc3c18aca57445b.bindTooltip(\n                `&lt;div&gt;\n                     Maryland (Cluster 13)\n                 &lt;/div&gt;`,\n                {&quot;sticky&quot;: true}\n            );\n        \n    \n            var circle_marker_c08c3a20aecb9d6808d3c78d0cac203e = L.circleMarker(\n                [42.358162, -71.063698],\n                {&quot;bubblingMouseEvents&quot;: true, &quot;color&quot;: &quot;darkred&quot;, &quot;dashArray&quot;: null, &quot;dashOffset&quot;: null, &quot;fill&quot;: true, &quot;fillColor&quot;: &quot;darkred&quot;, &quot;fillOpacity&quot;: 0.2, &quot;fillRule&quot;: &quot;evenodd&quot;, &quot;lineCap&quot;: &quot;round&quot;, &quot;lineJoin&quot;: &quot;round&quot;, &quot;opacity&quot;: 1.0, &quot;radius&quot;: 5, &quot;stroke&quot;: true, &quot;weight&quot;: 3}\n            ).addTo(map_3adbda31cf296fd43edd80f9b02b1233);\n        \n    \n            circle_marker_c08c3a20aecb9d6808d3c78d0cac203e.bindTooltip(\n                `&lt;div&gt;\n                     Massachusetts (Cluster 5)\n                 &lt;/div&gt;`,\n                {&quot;sticky&quot;: true}\n            );\n        \n    \n            var circle_marker_a550029181c94ab9daadffc0cde4c034 = L.circleMarker(\n                [42.733635, -84.555328],\n                {&quot;bubblingMouseEvents&quot;: true, &quot;color&quot;: &quot;black&quot;, &quot;dashArray&quot;: null, &quot;dashOffset&quot;: null, &quot;fill&quot;: true, &quot;fillColor&quot;: &quot;black&quot;, &quot;fillOpacity&quot;: 0.2, &quot;fillRule&quot;: &quot;evenodd&quot;, &quot;lineCap&quot;: &quot;round&quot;, &quot;lineJoin&quot;: &quot;round&quot;, &quot;opacity&quot;: 1.0, &quot;radius&quot;: 5, &quot;stroke&quot;: true, &quot;weight&quot;: 3}\n            ).addTo(map_3adbda31cf296fd43edd80f9b02b1233);\n        \n    \n            circle_marker_a550029181c94ab9daadffc0cde4c034.bindTooltip(\n                `&lt;div&gt;\n                     Michigan (Cluster 9)\n                 &lt;/div&gt;`,\n                {&quot;sticky&quot;: true}\n            );\n        \n    \n            var circle_marker_cbaccd0051c4409e2170533003612a59 = L.circleMarker(\n                [44.955097, -93.102211],\n                {&quot;bubblingMouseEvents&quot;: true, &quot;color&quot;: &quot;pink&quot;, &quot;dashArray&quot;: null, &quot;dashOffset&quot;: null, &quot;fill&quot;: true, &quot;fillColor&quot;: &quot;pink&quot;, &quot;fillOpacity&quot;: 0.2, &quot;fillRule&quot;: &quot;evenodd&quot;, &quot;lineCap&quot;: &quot;round&quot;, &quot;lineJoin&quot;: &quot;round&quot;, &quot;opacity&quot;: 1.0, &quot;radius&quot;: 5, &quot;stroke&quot;: true, &quot;weight&quot;: 3}\n            ).addTo(map_3adbda31cf296fd43edd80f9b02b1233);\n        \n    \n            circle_marker_cbaccd0051c4409e2170533003612a59.bindTooltip(\n                `&lt;div&gt;\n                     Minnesota (Cluster 7)\n                 &lt;/div&gt;`,\n                {&quot;sticky&quot;: true}\n            );\n        \n    \n            var circle_marker_499764a8ce29e66961683ce188320b57 = L.circleMarker(\n                [32.303848, -90.182106],\n                {&quot;bubblingMouseEvents&quot;: true, &quot;color&quot;: &quot;purple&quot;, &quot;dashArray&quot;: null, &quot;dashOffset&quot;: null, &quot;fill&quot;: true, &quot;fillColor&quot;: &quot;purple&quot;, &quot;fillOpacity&quot;: 0.2, &quot;fillRule&quot;: &quot;evenodd&quot;, &quot;lineCap&quot;: &quot;round&quot;, &quot;lineJoin&quot;: &quot;round&quot;, &quot;opacity&quot;: 1.0, &quot;radius&quot;: 5, &quot;stroke&quot;: true, &quot;weight&quot;: 3}\n            ).addTo(map_3adbda31cf296fd43edd80f9b02b1233);\n        \n    \n            circle_marker_499764a8ce29e66961683ce188320b57.bindTooltip(\n                `&lt;div&gt;\n                     Mississippi (Cluster 3)\n                 &lt;/div&gt;`,\n                {&quot;sticky&quot;: true}\n            );\n        \n    \n            var circle_marker_c1bb30428e1822f5d408e5928bf94402 = L.circleMarker(\n                [38.579201, -92.172935],\n                {&quot;bubblingMouseEvents&quot;: true, &quot;color&quot;: &quot;pink&quot;, &quot;dashArray&quot;: null, &quot;dashOffset&quot;: null, &quot;fill&quot;: true, &quot;fillColor&quot;: &quot;pink&quot;, &quot;fillOpacity&quot;: 0.2, &quot;fillRule&quot;: &quot;evenodd&quot;, &quot;lineCap&quot;: &quot;round&quot;, &quot;lineJoin&quot;: &quot;round&quot;, &quot;opacity&quot;: 1.0, &quot;radius&quot;: 5, &quot;stroke&quot;: true, &quot;weight&quot;: 3}\n            ).addTo(map_3adbda31cf296fd43edd80f9b02b1233);\n        \n    \n            circle_marker_c1bb30428e1822f5d408e5928bf94402.bindTooltip(\n                `&lt;div&gt;\n                     Missouri (Cluster 7)\n                 &lt;/div&gt;`,\n                {&quot;sticky&quot;: true}\n            );\n        \n    \n            var circle_marker_54dc0b58d402df7d696e6d3b68c9eb1d = L.circleMarker(\n                [46.585709, -112.018417],\n                {&quot;bubblingMouseEvents&quot;: true, &quot;color&quot;: &quot;lightblue&quot;, &quot;dashArray&quot;: null, &quot;dashOffset&quot;: null, &quot;fill&quot;: true, &quot;fillColor&quot;: &quot;lightblue&quot;, &quot;fillOpacity&quot;: 0.2, &quot;fillRule&quot;: &quot;evenodd&quot;, &quot;lineCap&quot;: &quot;round&quot;, &quot;lineJoin&quot;: &quot;round&quot;, &quot;opacity&quot;: 1.0, &quot;radius&quot;: 5, &quot;stroke&quot;: true, &quot;weight&quot;: 3}\n            ).addTo(map_3adbda31cf296fd43edd80f9b02b1233);\n        \n    \n            circle_marker_54dc0b58d402df7d696e6d3b68c9eb1d.bindTooltip(\n                `&lt;div&gt;\n                     Montana (Cluster 6)\n                 &lt;/div&gt;`,\n                {&quot;sticky&quot;: true}\n            );\n        \n    \n            var circle_marker_4f8ce6bf1bfaf5d97f31ad875a1f55d3 = L.circleMarker(\n                [40.808075, -96.699654],\n                {&quot;bubblingMouseEvents&quot;: true, &quot;color&quot;: &quot;pink&quot;, &quot;dashArray&quot;: null, &quot;dashOffset&quot;: null, &quot;fill&quot;: true, &quot;fillColor&quot;: &quot;pink&quot;, &quot;fillOpacity&quot;: 0.2, &quot;fillRule&quot;: &quot;evenodd&quot;, &quot;lineCap&quot;: &quot;round&quot;, &quot;lineJoin&quot;: &quot;round&quot;, &quot;opacity&quot;: 1.0, &quot;radius&quot;: 5, &quot;stroke&quot;: true, &quot;weight&quot;: 3}\n            ).addTo(map_3adbda31cf296fd43edd80f9b02b1233);\n        \n    \n            circle_marker_4f8ce6bf1bfaf5d97f31ad875a1f55d3.bindTooltip(\n                `&lt;div&gt;\n                     Nebraska (Cluster 7)\n                 &lt;/div&gt;`,\n                {&quot;sticky&quot;: true}\n            );\n        \n    \n            var circle_marker_03992fb1986548e1a01ad1dd861c3493 = L.circleMarker(\n                [39.163914, -119.766121],\n                {&quot;bubblingMouseEvents&quot;: true, &quot;color&quot;: &quot;pink&quot;, &quot;dashArray&quot;: null, &quot;dashOffset&quot;: null, &quot;fill&quot;: true, &quot;fillColor&quot;: &quot;pink&quot;, &quot;fillOpacity&quot;: 0.2, &quot;fillRule&quot;: &quot;evenodd&quot;, &quot;lineCap&quot;: &quot;round&quot;, &quot;lineJoin&quot;: &quot;round&quot;, &quot;opacity&quot;: 1.0, &quot;radius&quot;: 5, &quot;stroke&quot;: true, &quot;weight&quot;: 3}\n            ).addTo(map_3adbda31cf296fd43edd80f9b02b1233);\n        \n    \n            circle_marker_03992fb1986548e1a01ad1dd861c3493.bindTooltip(\n                `&lt;div&gt;\n                     Nevada (Cluster 11)\n                 &lt;/div&gt;`,\n                {&quot;sticky&quot;: true}\n            );\n        \n    \n            var circle_marker_9048b1360a98763718ec55740fa3fd68 = L.circleMarker(\n                [43.206898, -71.537994],\n                {&quot;bubblingMouseEvents&quot;: true, &quot;color&quot;: &quot;darkred&quot;, &quot;dashArray&quot;: null, &quot;dashOffset&quot;: null, &quot;fill&quot;: true, &quot;fillColor&quot;: &quot;darkred&quot;, &quot;fillOpacity&quot;: 0.2, &quot;fillRule&quot;: &quot;evenodd&quot;, &quot;lineCap&quot;: &quot;round&quot;, &quot;lineJoin&quot;: &quot;round&quot;, &quot;opacity&quot;: 1.0, &quot;radius&quot;: 5, &quot;stroke&quot;: true, &quot;weight&quot;: 3}\n            ).addTo(map_3adbda31cf296fd43edd80f9b02b1233);\n        \n    \n            circle_marker_9048b1360a98763718ec55740fa3fd68.bindTooltip(\n                `&lt;div&gt;\n                     New Hampshire (Cluster 5)\n                 &lt;/div&gt;`,\n                {&quot;sticky&quot;: true}\n            );\n        \n    \n            var circle_marker_026c153c0efd2b5ab8ddfbbe8c77b975 = L.circleMarker(\n                [40.220596, -74.769913],\n                {&quot;bubblingMouseEvents&quot;: true, &quot;color&quot;: &quot;darkblue&quot;, &quot;dashArray&quot;: null, &quot;dashOffset&quot;: null, &quot;fill&quot;: true, &quot;fillColor&quot;: &quot;darkblue&quot;, &quot;fillOpacity&quot;: 0.2, &quot;fillRule&quot;: &quot;evenodd&quot;, &quot;lineCap&quot;: &quot;round&quot;, &quot;lineJoin&quot;: &quot;round&quot;, &quot;opacity&quot;: 1.0, &quot;radius&quot;: 5, &quot;stroke&quot;: true, &quot;weight&quot;: 3}\n            ).addTo(map_3adbda31cf296fd43edd80f9b02b1233);\n        \n    \n            circle_marker_026c153c0efd2b5ab8ddfbbe8c77b975.bindTooltip(\n                `&lt;div&gt;\n                     New Jersey (Cluster 13)\n                 &lt;/div&gt;`,\n                {&quot;sticky&quot;: true}\n            );\n        \n    \n            var circle_marker_a7160c889c75b63eca49e5957c1616a5 = L.circleMarker(\n                [35.68224, -105.939728],\n                {&quot;bubblingMouseEvents&quot;: true, &quot;color&quot;: &quot;yellow&quot;, &quot;dashArray&quot;: null, &quot;dashOffset&quot;: null, &quot;fill&quot;: true, &quot;fillColor&quot;: &quot;yellow&quot;, &quot;fillOpacity&quot;: 0.2, &quot;fillRule&quot;: &quot;evenodd&quot;, &quot;lineCap&quot;: &quot;round&quot;, &quot;lineJoin&quot;: &quot;round&quot;, &quot;opacity&quot;: 1.0, &quot;radius&quot;: 5, &quot;stroke&quot;: true, &quot;weight&quot;: 3}\n            ).addTo(map_3adbda31cf296fd43edd80f9b02b1233);\n        \n    \n            circle_marker_a7160c889c75b63eca49e5957c1616a5.bindTooltip(\n                `&lt;div&gt;\n                     New Mexico (Cluster 10)\n                 &lt;/div&gt;`,\n                {&quot;sticky&quot;: true}\n            );\n        \n    \n            var circle_marker_4629070059fc8fa1c4fddf2b14e7bcc3 = L.circleMarker(\n                [35.78043, -78.639099],\n                {&quot;bubblingMouseEvents&quot;: true, &quot;color&quot;: &quot;blue&quot;, &quot;dashArray&quot;: null, &quot;dashOffset&quot;: null, &quot;fill&quot;: true, &quot;fillColor&quot;: &quot;blue&quot;, &quot;fillOpacity&quot;: 0.2, &quot;fillRule&quot;: &quot;evenodd&quot;, &quot;lineCap&quot;: &quot;round&quot;, &quot;lineJoin&quot;: &quot;round&quot;, &quot;opacity&quot;: 1.0, &quot;radius&quot;: 5, &quot;stroke&quot;: true, &quot;weight&quot;: 3}\n            ).addTo(map_3adbda31cf296fd43edd80f9b02b1233);\n        \n    \n            circle_marker_4629070059fc8fa1c4fddf2b14e7bcc3.bindTooltip(\n                `&lt;div&gt;\n                     North Carolina (Cluster 1)\n                 &lt;/div&gt;`,\n                {&quot;sticky&quot;: true}\n            );\n        \n    \n            var circle_marker_7c6a201725c3a4480fd8ee7f7323c957 = L.circleMarker(\n                [46.82085, -100.783318],\n                {&quot;bubblingMouseEvents&quot;: true, &quot;color&quot;: &quot;green&quot;, &quot;dashArray&quot;: null, &quot;dashOffset&quot;: null, &quot;fill&quot;: true, &quot;fillColor&quot;: &quot;green&quot;, &quot;fillOpacity&quot;: 0.2, &quot;fillRule&quot;: &quot;evenodd&quot;, &quot;lineCap&quot;: &quot;round&quot;, &quot;lineJoin&quot;: &quot;round&quot;, &quot;opacity&quot;: 1.0, &quot;radius&quot;: 5, &quot;stroke&quot;: true, &quot;weight&quot;: 3}\n            ).addTo(map_3adbda31cf296fd43edd80f9b02b1233);\n        \n    \n            circle_marker_7c6a201725c3a4480fd8ee7f7323c957.bindTooltip(\n                `&lt;div&gt;\n                     North Dakota (Cluster 2)\n                 &lt;/div&gt;`,\n                {&quot;sticky&quot;: true}\n            );\n        \n    \n            var circle_marker_e64097ee1535a8c4ff85acf8fec14ad8 = L.circleMarker(\n                [42.652843, -73.757874],\n                {&quot;bubblingMouseEvents&quot;: true, &quot;color&quot;: &quot;darkred&quot;, &quot;dashArray&quot;: null, &quot;dashOffset&quot;: null, &quot;fill&quot;: true, &quot;fillColor&quot;: &quot;darkred&quot;, &quot;fillOpacity&quot;: 0.2, &quot;fillRule&quot;: &quot;evenodd&quot;, &quot;lineCap&quot;: &quot;round&quot;, &quot;lineJoin&quot;: &quot;round&quot;, &quot;opacity&quot;: 1.0, &quot;radius&quot;: 5, &quot;stroke&quot;: true, &quot;weight&quot;: 3}\n            ).addTo(map_3adbda31cf296fd43edd80f9b02b1233);\n        \n    \n            circle_marker_e64097ee1535a8c4ff85acf8fec14ad8.bindTooltip(\n                `&lt;div&gt;\n                     New York (Cluster 5)\n                 &lt;/div&gt;`,\n                {&quot;sticky&quot;: true}\n            );\n        \n    \n            var circle_marker_b05750f87f00eceb7819bf1d67b970c3 = L.circleMarker(\n                [39.961346, -82.999069],\n                {&quot;bubblingMouseEvents&quot;: true, &quot;color&quot;: &quot;black&quot;, &quot;dashArray&quot;: null, &quot;dashOffset&quot;: null, &quot;fill&quot;: true, &quot;fillColor&quot;: &quot;black&quot;, &quot;fillOpacity&quot;: 0.2, &quot;fillRule&quot;: &quot;evenodd&quot;, &quot;lineCap&quot;: &quot;round&quot;, &quot;lineJoin&quot;: &quot;round&quot;, &quot;opacity&quot;: 1.0, &quot;radius&quot;: 5, &quot;stroke&quot;: true, &quot;weight&quot;: 3}\n            ).addTo(map_3adbda31cf296fd43edd80f9b02b1233);\n        \n    \n            circle_marker_b05750f87f00eceb7819bf1d67b970c3.bindTooltip(\n                `&lt;div&gt;\n                     Ohio (Cluster 9)\n                 &lt;/div&gt;`,\n                {&quot;sticky&quot;: true}\n            );\n        \n    \n            var circle_marker_33977bdbeb2ead8e06c159f9faeb6a9f = L.circleMarker(\n                [35.492207, -97.503342],\n                {&quot;bubblingMouseEvents&quot;: true, &quot;color&quot;: &quot;pink&quot;, &quot;dashArray&quot;: null, &quot;dashOffset&quot;: null, &quot;fill&quot;: true, &quot;fillColor&quot;: &quot;pink&quot;, &quot;fillOpacity&quot;: 0.2, &quot;fillRule&quot;: &quot;evenodd&quot;, &quot;lineCap&quot;: &quot;round&quot;, &quot;lineJoin&quot;: &quot;round&quot;, &quot;opacity&quot;: 1.0, &quot;radius&quot;: 5, &quot;stroke&quot;: true, &quot;weight&quot;: 3}\n            ).addTo(map_3adbda31cf296fd43edd80f9b02b1233);\n        \n    \n            circle_marker_33977bdbeb2ead8e06c159f9faeb6a9f.bindTooltip(\n                `&lt;div&gt;\n                     Oklahoma (Cluster 7)\n                 &lt;/div&gt;`,\n                {&quot;sticky&quot;: true}\n            );\n        \n    \n            var circle_marker_58e02d895b39bd14f44b56bbb330ef91 = L.circleMarker(\n                [44.938461, -123.030403],\n                {&quot;bubblingMouseEvents&quot;: true, &quot;color&quot;: &quot;red&quot;, &quot;dashArray&quot;: null, &quot;dashOffset&quot;: null, &quot;fill&quot;: true, &quot;fillColor&quot;: &quot;red&quot;, &quot;fillOpacity&quot;: 0.2, &quot;fillRule&quot;: &quot;evenodd&quot;, &quot;lineCap&quot;: &quot;round&quot;, &quot;lineJoin&quot;: &quot;round&quot;, &quot;opacity&quot;: 1.0, &quot;radius&quot;: 5, &quot;stroke&quot;: true, &quot;weight&quot;: 3}\n            ).addTo(map_3adbda31cf296fd43edd80f9b02b1233);\n        \n    \n            circle_marker_58e02d895b39bd14f44b56bbb330ef91.bindTooltip(\n                `&lt;div&gt;\n                     Oregon (Cluster 0)\n                 &lt;/div&gt;`,\n                {&quot;sticky&quot;: true}\n            );\n        \n    \n            var circle_marker_2d39a8235861f677adbc90d34c411191 = L.circleMarker(\n                [40.264378, -76.883598],\n                {&quot;bubblingMouseEvents&quot;: true, &quot;color&quot;: &quot;darkblue&quot;, &quot;dashArray&quot;: null, &quot;dashOffset&quot;: null, &quot;fill&quot;: true, &quot;fillColor&quot;: &quot;darkblue&quot;, &quot;fillOpacity&quot;: 0.2, &quot;fillRule&quot;: &quot;evenodd&quot;, &quot;lineCap&quot;: &quot;round&quot;, &quot;lineJoin&quot;: &quot;round&quot;, &quot;opacity&quot;: 1.0, &quot;radius&quot;: 5, &quot;stroke&quot;: true, &quot;weight&quot;: 3}\n            ).addTo(map_3adbda31cf296fd43edd80f9b02b1233);\n        \n    \n            circle_marker_2d39a8235861f677adbc90d34c411191.bindTooltip(\n                `&lt;div&gt;\n                     Pennsylvania (Cluster 13)\n                 &lt;/div&gt;`,\n                {&quot;sticky&quot;: true}\n            );\n        \n    \n            var circle_marker_0cbc687410e7db6a140e95a4bba40354 = L.circleMarker(\n                [41.830914, -71.414963],\n                {&quot;bubblingMouseEvents&quot;: true, &quot;color&quot;: &quot;darkred&quot;, &quot;dashArray&quot;: null, &quot;dashOffset&quot;: null, &quot;fill&quot;: true, &quot;fillColor&quot;: &quot;darkred&quot;, &quot;fillOpacity&quot;: 0.2, &quot;fillRule&quot;: &quot;evenodd&quot;, &quot;lineCap&quot;: &quot;round&quot;, &quot;lineJoin&quot;: &quot;round&quot;, &quot;opacity&quot;: 1.0, &quot;radius&quot;: 5, &quot;stroke&quot;: true, &quot;weight&quot;: 3}\n            ).addTo(map_3adbda31cf296fd43edd80f9b02b1233);\n        \n    \n            circle_marker_0cbc687410e7db6a140e95a4bba40354.bindTooltip(\n                `&lt;div&gt;\n                     Rhode Island (Cluster 5)\n                 &lt;/div&gt;`,\n                {&quot;sticky&quot;: true}\n            );\n        \n    \n            var circle_marker_9e9b6183590dd40e6f335b56440e994d = L.circleMarker(\n                [34.000343, -81.033211],\n                {&quot;bubblingMouseEvents&quot;: true, &quot;color&quot;: &quot;blue&quot;, &quot;dashArray&quot;: null, &quot;dashOffset&quot;: null, &quot;fill&quot;: true, &quot;fillColor&quot;: &quot;blue&quot;, &quot;fillOpacity&quot;: 0.2, &quot;fillRule&quot;: &quot;evenodd&quot;, &quot;lineCap&quot;: &quot;round&quot;, &quot;lineJoin&quot;: &quot;round&quot;, &quot;opacity&quot;: 1.0, &quot;radius&quot;: 5, &quot;stroke&quot;: true, &quot;weight&quot;: 3}\n            ).addTo(map_3adbda31cf296fd43edd80f9b02b1233);\n        \n    \n            circle_marker_9e9b6183590dd40e6f335b56440e994d.bindTooltip(\n                `&lt;div&gt;\n                     South Carolina (Cluster 1)\n                 &lt;/div&gt;`,\n                {&quot;sticky&quot;: true}\n            );\n        \n    \n            var circle_marker_6df20f9d178fb581945bea4aef0b8c5d = L.circleMarker(\n                [44.367031, -100.346405],\n                {&quot;bubblingMouseEvents&quot;: true, &quot;color&quot;: &quot;green&quot;, &quot;dashArray&quot;: null, &quot;dashOffset&quot;: null, &quot;fill&quot;: true, &quot;fillColor&quot;: &quot;green&quot;, &quot;fillOpacity&quot;: 0.2, &quot;fillRule&quot;: &quot;evenodd&quot;, &quot;lineCap&quot;: &quot;round&quot;, &quot;lineJoin&quot;: &quot;round&quot;, &quot;opacity&quot;: 1.0, &quot;radius&quot;: 5, &quot;stroke&quot;: true, &quot;weight&quot;: 3}\n            ).addTo(map_3adbda31cf296fd43edd80f9b02b1233);\n        \n    \n            circle_marker_6df20f9d178fb581945bea4aef0b8c5d.bindTooltip(\n                `&lt;div&gt;\n                     South Dakota (Cluster 2)\n                 &lt;/div&gt;`,\n                {&quot;sticky&quot;: true}\n            );\n        \n    \n            var circle_marker_9eb5cc66ce1cd684d990bd1598db8732 = L.circleMarker(\n                [36.16581, -86.784241],\n                {&quot;bubblingMouseEvents&quot;: true, &quot;color&quot;: &quot;black&quot;, &quot;dashArray&quot;: null, &quot;dashOffset&quot;: null, &quot;fill&quot;: true, &quot;fillColor&quot;: &quot;black&quot;, &quot;fillOpacity&quot;: 0.2, &quot;fillRule&quot;: &quot;evenodd&quot;, &quot;lineCap&quot;: &quot;round&quot;, &quot;lineJoin&quot;: &quot;round&quot;, &quot;opacity&quot;: 1.0, &quot;radius&quot;: 5, &quot;stroke&quot;: true, &quot;weight&quot;: 3}\n            ).addTo(map_3adbda31cf296fd43edd80f9b02b1233);\n        \n    \n            circle_marker_9eb5cc66ce1cd684d990bd1598db8732.bindTooltip(\n                `&lt;div&gt;\n                     Tennessee (Cluster 9)\n                 &lt;/div&gt;`,\n                {&quot;sticky&quot;: true}\n            );\n        \n    \n            var circle_marker_87997effd7585c315af91766970f67d1 = L.circleMarker(\n                [30.27467, -97.740349],\n                {&quot;bubblingMouseEvents&quot;: true, &quot;color&quot;: &quot;purple&quot;, &quot;dashArray&quot;: null, &quot;dashOffset&quot;: null, &quot;fill&quot;: true, &quot;fillColor&quot;: &quot;purple&quot;, &quot;fillOpacity&quot;: 0.2, &quot;fillRule&quot;: &quot;evenodd&quot;, &quot;lineCap&quot;: &quot;round&quot;, &quot;lineJoin&quot;: &quot;round&quot;, &quot;opacity&quot;: 1.0, &quot;radius&quot;: 5, &quot;stroke&quot;: true, &quot;weight&quot;: 3}\n            ).addTo(map_3adbda31cf296fd43edd80f9b02b1233);\n        \n    \n            circle_marker_87997effd7585c315af91766970f67d1.bindTooltip(\n                `&lt;div&gt;\n                     Texas (Cluster 3)\n                 &lt;/div&gt;`,\n                {&quot;sticky&quot;: true}\n            );\n        \n    \n            var circle_marker_50c5988e1d32f7254bf79e82e9352e7e = L.circleMarker(\n                [40.777477, -111.888237],\n                {&quot;bubblingMouseEvents&quot;: true, &quot;color&quot;: &quot;lightblue&quot;, &quot;dashArray&quot;: null, &quot;dashOffset&quot;: null, &quot;fill&quot;: true, &quot;fillColor&quot;: &quot;lightblue&quot;, &quot;fillOpacity&quot;: 0.2, &quot;fillRule&quot;: &quot;evenodd&quot;, &quot;lineCap&quot;: &quot;round&quot;, &quot;lineJoin&quot;: &quot;round&quot;, &quot;opacity&quot;: 1.0, &quot;radius&quot;: 5, &quot;stroke&quot;: true, &quot;weight&quot;: 3}\n            ).addTo(map_3adbda31cf296fd43edd80f9b02b1233);\n        \n    \n            circle_marker_50c5988e1d32f7254bf79e82e9352e7e.bindTooltip(\n                `&lt;div&gt;\n                     Utah (Cluster 6)\n                 &lt;/div&gt;`,\n                {&quot;sticky&quot;: true}\n            );\n        \n    \n            var circle_marker_2d2aa3cbcfea1e806659cdccc471f935 = L.circleMarker(\n                [44.262436, -72.580536],\n                {&quot;bubblingMouseEvents&quot;: true, &quot;color&quot;: &quot;darkred&quot;, &quot;dashArray&quot;: null, &quot;dashOffset&quot;: null, &quot;fill&quot;: true, &quot;fillColor&quot;: &quot;darkred&quot;, &quot;fillOpacity&quot;: 0.2, &quot;fillRule&quot;: &quot;evenodd&quot;, &quot;lineCap&quot;: &quot;round&quot;, &quot;lineJoin&quot;: &quot;round&quot;, &quot;opacity&quot;: 1.0, &quot;radius&quot;: 5, &quot;stroke&quot;: true, &quot;weight&quot;: 3}\n            ).addTo(map_3adbda31cf296fd43edd80f9b02b1233);\n        \n    \n            circle_marker_2d2aa3cbcfea1e806659cdccc471f935.bindTooltip(\n                `&lt;div&gt;\n                     Vermont (Cluster 5)\n                 &lt;/div&gt;`,\n                {&quot;sticky&quot;: true}\n            );\n        \n    \n            var circle_marker_2b59b9c3dcd210610629f25e584e0d1e = L.circleMarker(\n                [37.538857, -77.43364],\n                {&quot;bubblingMouseEvents&quot;: true, &quot;color&quot;: &quot;darkblue&quot;, &quot;dashArray&quot;: null, &quot;dashOffset&quot;: null, &quot;fill&quot;: true, &quot;fillColor&quot;: &quot;darkblue&quot;, &quot;fillOpacity&quot;: 0.2, &quot;fillRule&quot;: &quot;evenodd&quot;, &quot;lineCap&quot;: &quot;round&quot;, &quot;lineJoin&quot;: &quot;round&quot;, &quot;opacity&quot;: 1.0, &quot;radius&quot;: 5, &quot;stroke&quot;: true, &quot;weight&quot;: 3}\n            ).addTo(map_3adbda31cf296fd43edd80f9b02b1233);\n        \n    \n            circle_marker_2b59b9c3dcd210610629f25e584e0d1e.bindTooltip(\n                `&lt;div&gt;\n                     Virginia (Cluster 13)\n                 &lt;/div&gt;`,\n                {&quot;sticky&quot;: true}\n            );\n        \n    \n            var circle_marker_e455e5682c649366c7b453fb0cf3a3bb = L.circleMarker(\n                [47.035805, -122.905014],\n                {&quot;bubblingMouseEvents&quot;: true, &quot;color&quot;: &quot;red&quot;, &quot;dashArray&quot;: null, &quot;dashOffset&quot;: null, &quot;fill&quot;: true, &quot;fillColor&quot;: &quot;red&quot;, &quot;fillOpacity&quot;: 0.2, &quot;fillRule&quot;: &quot;evenodd&quot;, &quot;lineCap&quot;: &quot;round&quot;, &quot;lineJoin&quot;: &quot;round&quot;, &quot;opacity&quot;: 1.0, &quot;radius&quot;: 5, &quot;stroke&quot;: true, &quot;weight&quot;: 3}\n            ).addTo(map_3adbda31cf296fd43edd80f9b02b1233);\n        \n    \n            circle_marker_e455e5682c649366c7b453fb0cf3a3bb.bindTooltip(\n                `&lt;div&gt;\n                     Washington (Cluster 0)\n                 &lt;/div&gt;`,\n                {&quot;sticky&quot;: true}\n            );\n        \n    \n            var circle_marker_ef0f698e9dfd0d55e2b4466b957f33bd = L.circleMarker(\n                [38.336246, -81.612328],\n                {&quot;bubblingMouseEvents&quot;: true, &quot;color&quot;: &quot;blue&quot;, &quot;dashArray&quot;: null, &quot;dashOffset&quot;: null, &quot;fill&quot;: true, &quot;fillColor&quot;: &quot;blue&quot;, &quot;fillOpacity&quot;: 0.2, &quot;fillRule&quot;: &quot;evenodd&quot;, &quot;lineCap&quot;: &quot;round&quot;, &quot;lineJoin&quot;: &quot;round&quot;, &quot;opacity&quot;: 1.0, &quot;radius&quot;: 5, &quot;stroke&quot;: true, &quot;weight&quot;: 3}\n            ).addTo(map_3adbda31cf296fd43edd80f9b02b1233);\n        \n    \n            circle_marker_ef0f698e9dfd0d55e2b4466b957f33bd.bindTooltip(\n                `&lt;div&gt;\n                     West Virginia (Cluster 1)\n                 &lt;/div&gt;`,\n                {&quot;sticky&quot;: true}\n            );\n        \n    \n            var circle_marker_6046160a32fa3851586490d8bc6b9ab0 = L.circleMarker(\n                [43.074684, -89.384445],\n                {&quot;bubblingMouseEvents&quot;: true, &quot;color&quot;: &quot;black&quot;, &quot;dashArray&quot;: null, &quot;dashOffset&quot;: null, &quot;fill&quot;: true, &quot;fillColor&quot;: &quot;black&quot;, &quot;fillOpacity&quot;: 0.2, &quot;fillRule&quot;: &quot;evenodd&quot;, &quot;lineCap&quot;: &quot;round&quot;, &quot;lineJoin&quot;: &quot;round&quot;, &quot;opacity&quot;: 1.0, &quot;radius&quot;: 5, &quot;stroke&quot;: true, &quot;weight&quot;: 3}\n            ).addTo(map_3adbda31cf296fd43edd80f9b02b1233);\n        \n    \n            circle_marker_6046160a32fa3851586490d8bc6b9ab0.bindTooltip(\n                `&lt;div&gt;\n                     Wisconsin (Cluster 9)\n                 &lt;/div&gt;`,\n                {&quot;sticky&quot;: true}\n            );\n        \n    \n            var circle_marker_157172c482fb638e50648e1794fd8319 = L.circleMarker(\n                [41.140259, -104.820236],\n                {&quot;bubblingMouseEvents&quot;: true, &quot;color&quot;: &quot;green&quot;, &quot;dashArray&quot;: null, &quot;dashOffset&quot;: null, &quot;fill&quot;: true, &quot;fillColor&quot;: &quot;green&quot;, &quot;fillOpacity&quot;: 0.2, &quot;fillRule&quot;: &quot;evenodd&quot;, &quot;lineCap&quot;: &quot;round&quot;, &quot;lineJoin&quot;: &quot;round&quot;, &quot;opacity&quot;: 1.0, &quot;radius&quot;: 5, &quot;stroke&quot;: true, &quot;weight&quot;: 3}\n            ).addTo(map_3adbda31cf296fd43edd80f9b02b1233);\n        \n    \n            circle_marker_157172c482fb638e50648e1794fd8319.bindTooltip(\n                `&lt;div&gt;\n                     Wyoming (Cluster 2)\n                 &lt;/div&gt;`,\n                {&quot;sticky&quot;: true}\n            );\n        \n&lt;/script&gt;\n&lt;/html&gt;\" style=\"position:absolute;width:100%;height:100%;left:0;top:0;border:none !important;\" allowfullscreen webkitallowfullscreen mozallowfullscreen></iframe></div></div>"
     },
     "execution_count": 7,
     "metadata": {},
     "output_type": "execute_result"
    }
   ],
   "source": [
    "# Create an interactive map as a visual aid for ease of development using folium.\n",
    "# Create a new map object using the folium.Map() function\n",
    "map = folium.Map(location=[capitals['latitude'].mean(), capitals['longitude'].mean()], zoom_start=4)# Create a new map object using the folium.Map() function\n",
    "# The location argument sets the initial center of the map to the mean latitude and longitude of the capitals\n",
    "# The zoom_start argument sets the initial zoom level of the map to 4\n",
    "# Define a color palette for 10 groups\n",
    "colors = ['red', 'blue', 'green', 'purple', 'orange', 'darkred', 'lightblue', 'pink', 'gray', 'black', \"yellow\",\"pink\",\"darkred\",\"darkblue\",\"darkgreen\"] #If you increase the amount of clusters you want in this code \"kmeans = KMeans(n_clusters=14, n_init=5, random_state=42)\", you will have to add more colors to this list.\n",
    "# Add markers to the map\n",
    "for _, row in capitals.iterrows(): # Get the color corresponding to the cluster value\n",
    "    color = colors[row['cluster']] # Get the color corresponding to the cluster value\n",
    "     # Create a circle marker object with the given parameters\n",
    "    folium.CircleMarker(\n",
    "        location=[row['latitude'], row['longitude']],# Set the location as the latitude and longitude values\n",
    "        radius=5,# Set the radius as 5 pixels\n",
    "        color=color,# Set the border color as the cluster color\n",
    "        # Fill the circle with the cluster color\n",
    "        fill=True,\n",
    "        fill_color=color,\n",
    "        tooltip=f\"{row['name']} (Cluster {row['cluster']})\" #this creates a hover effect that allows you to see the name of a state and what cluster it belongs to.\n",
    "        # Add the circle marker to the map object\n",
    "    ).add_to(map)\n",
    "\n",
    "# Display the map\n",
    "map"
   ],
   "metadata": {
    "collapsed": false,
    "ExecuteTime": {
     "end_time": "2024-01-25T23:49:04.337133700Z",
     "start_time": "2024-01-25T23:49:04.212136300Z"
    }
   },
   "id": "dc9189adbb38854",
   "execution_count": 7
  },
  {
   "cell_type": "code",
   "outputs": [
    {
     "name": "stdout",
     "output_type": "stream",
     "text": [
      "Cluster 0:\n",
      "Oregon: 44.938461,-123.030403'\n",
      "Washington: 47.035805,-122.905014'\n",
      "Cluster 1:\n",
      "North Carolina: 35.78043,-78.639099'\n",
      "South Carolina: 34.000343,-81.033211'\n",
      "West Virginia: 38.336246,-81.612328'\n",
      "Cluster 2:\n",
      "North Dakota: 46.82085,-100.783318'\n",
      "South Dakota: 44.367031,-100.346405'\n",
      "Wyoming: 41.140259,-104.820236'\n",
      "Cluster 3:\n",
      "Arkansas: 34.746613,-92.288986'\n",
      "Louisiana: 30.457069,-91.187393'\n",
      "Mississippi: 32.303848,-90.182106'\n",
      "Texas: 30.27467,-97.740349'\n",
      "Cluster 4:\n",
      "Hawaii: 21.307442,-157.857376'\n",
      "Cluster 5:\n",
      "Connecticut: 41.764046,-72.682198'\n",
      "Maine: 44.307167,-69.781693'\n",
      "Massachusetts: 42.358162,-71.063698'\n",
      "New Hampshire: 43.206898,-71.537994'\n",
      "New York: 42.652843,-73.757874'\n",
      "Rhode Island: 41.830914,-71.414963'\n",
      "Vermont: 44.262436,-72.580536'\n",
      "Cluster 6:\n",
      "Idaho: 43.617775,-116.199722'\n",
      "Montana: 46.585709,-112.018417'\n",
      "Utah: 40.777477,-111.888237'\n",
      "Cluster 7:\n",
      "Iowa: 41.591087,-93.603729'\n",
      "Kansas: 39.048191,-95.677956'\n",
      "Minnesota: 44.955097,-93.102211'\n",
      "Missouri: 38.579201,-92.172935'\n",
      "Nebraska: 40.808075,-96.699654'\n",
      "Oklahoma: 35.492207,-97.503342'\n",
      "Cluster 8:\n",
      "Alaska: 58.301598,-134.420212'\n",
      "Cluster 9:\n",
      "Illinois: 39.798363,-89.654961'\n",
      "Indiana: 39.768623,-86.162643'\n",
      "Kentucky: 38.186722,-84.875374'\n",
      "Michigan: 42.733635,-84.555328'\n",
      "Ohio: 39.961346,-82.999069'\n",
      "Tennessee: 36.16581,-86.784241'\n",
      "Wisconsin: 43.074684,-89.384445'\n",
      "Cluster 10:\n",
      "Arizona: 33.448143,-112.096962'\n",
      "Colorado: 39.739227,-104.984856'\n",
      "New Mexico: 35.68224,-105.939728'\n",
      "Cluster 11:\n",
      "California: 38.576668,-121.493629'\n",
      "Nevada: 39.163914,-119.766121'\n",
      "Cluster 12:\n",
      "Alabama: 32.377716,-86.300568'\n",
      "Florida: 30.438118,-84.281296'\n",
      "Georgia: 33.749027,-84.388229'\n",
      "Cluster 13:\n",
      "Delaware: 39.157307,-75.519722'\n",
      "DC : 38.895,-77.0366'\n",
      "Maryland: 38.978764,-76.490936'\n",
      "New Jersey: 40.220596,-74.769913'\n",
      "Pennsylvania: 40.264378,-76.883598'\n",
      "Virginia: 37.538857,-77.43364'\n"
     ]
    }
   ],
   "source": [
    "clusters = {} #create a dictionary of all of the different clusters\n",
    "# Loop over the rows in the DataFrame\n",
    "for _, row in capitals.iterrows():\n",
    "    # If the cluster is not in the dictionary, add it\n",
    "    if row['cluster'] not in clusters:\n",
    "        clusters[row['cluster']] = []\n",
    "    # Add the name and description of the location to the cluster\n",
    "    clusters[row['cluster']].append({'name': row['name'], \"latitude\": row['latitude'], 'longitude': row['longitude']})\n",
    "# Get the cluster numbers in sorted order\n",
    "sorted_clusters = sorted(clusters.keys())   \n",
    "# Print the clusters and their locations in sorted order\n",
    "for cluster in sorted_clusters:\n",
    "    print(f\"Cluster {cluster}:\")\n",
    "    for location in clusters[cluster]:\n",
    "        print(f\"{location['name']}: {location['latitude']},{location['longitude']}'\")"
   ],
   "metadata": {
    "collapsed": false,
    "ExecuteTime": {
     "end_time": "2024-01-25T23:49:04.350252300Z",
     "start_time": "2024-01-25T23:49:04.327918700Z"
    }
   },
   "id": "b4ef249b0ac9f7c8",
   "execution_count": 8
  },
  {
   "cell_type": "code",
   "outputs": [
    {
     "name": "stdout",
     "output_type": "stream",
     "text": [
      "Shortest Route: ['Iowa', 'Minnesota', 'Nebraska', 'Kansas', 'Missouri', 'Oklahoma'], Total Distance: 1261.38 miles\n"
     ]
    }
   ],
   "source": [
    "#This section of code will calculate all the possible permutations with the condition that Iowa will be the start location of permutation\n",
    "# This section will use itertools permutations and geodesic from geopy.distance\n",
    "\n",
    "# Assign the list of dictionaries representing locations in cluster 7 to a variable\n",
    "cluster_7 = clusters[7]\n",
    "# Define the name of the starting location\n",
    "start_location_name = 'Iowa'\n",
    "# Find the dictionary that matches the name of the starting location in cluster 7\n",
    "# If no match is found, assign None to start_location\n",
    "start_location = next((d for d in cluster_7 if d[\"name\"] == start_location_name), None)\n",
    "# Check if start_location is None\n",
    "if start_location is None:\n",
    "    # If yes, print a message indicating that the name is not found in cluster 7\n",
    "    print(f\"No location named {start_location_name} found in cluster_7\")\n",
    "else:\n",
    "    # If no, remove the dictionary of the starting location from cluster 7\n",
    "    cluster_7 = [d for d in cluster_7 if d[\"name\"] != start_location_name]\n",
    "    # Generate all possible permutations of the remaining locations in cluster 7\n",
    "    routes = list(itertools.permutations(cluster_7))\n",
    "    # Add the starting location to the beginning of each permutation\n",
    "    routes = [(start_location,) + route for route in routes]\n",
    "\n",
    "# Initialize an empty list to store the distances of each route\n",
    "distances = []\n",
    "# Loop through each route in routes\n",
    "for route in routes:\n",
    "    # Initialize a variable to store the total distance of the current route\n",
    "    total_distance = 0\n",
    "    # Loop through each pair of consecutive locations in the route\n",
    "    for i in range(len(route) - 1):\n",
    "        # Assign the first location to location1\n",
    "        location1 = route[i]\n",
    "        # Assign the second location to location2\n",
    "        location2 = route[i+1]\n",
    "        # Calculate the distance between location1 and location2 using geodesic function\n",
    "        # The function takes the latitude and longitude of each location as arguments\n",
    "        # The function returns the distance in miles\n",
    "        distance = geodesic((location1['latitude'], location1['longitude']),# I received alot of string errors on this line of code, to avoid this ensure that the \"routes\" is defined before the distance function.\n",
    "                            (location2['latitude'], location2['longitude'])).miles \n",
    "        # Add the distance to the total distance of the current route\n",
    "        total_distance += distance\n",
    "    # Append the total distance of the current route to the distances list\n",
    "    distances.append(total_distance)\n",
    "# Find the minimum distance in the distances list\n",
    "min_distance7 = min(distances) \n",
    "\n",
    "# Find the route that corresponds to the minimum distance\n",
    "min_route7 = routes[distances.index(min_distance7)]\n",
    "\n",
    "# Print the names of the locations in the shortest route and the total distance\n",
    "print(f\"Shortest Route: {[location['name'] for location in min_route7]}, Total Distance: {min_distance7:.2f} miles\") # your system can overload really easily when running permutations, try to make your print request as specifc as possible to avoid it outputting too many permutations. Make sure to only request min_distance7 and min_route7, don't request routes or distance."
   ],
   "metadata": {
    "collapsed": false,
    "ExecuteTime": {
     "end_time": "2024-01-25T23:49:04.613261500Z",
     "start_time": "2024-01-25T23:49:04.340532900Z"
    }
   },
   "id": "cf8551573021f031",
   "execution_count": 9
  },
  {
   "cell_type": "code",
   "outputs": [
    {
     "name": "stdout",
     "output_type": "stream",
     "text": [
      "Shortest Route: ['Oklahoma', 'Wyoming', 'South Dakota', 'North Dakota'], Total Distance: 1045.37 miles\n"
     ]
    }
   ],
   "source": [
    "#This section of code will calculate all the possible permutations with the condition that last_state_7 will be the start location of permutation\n",
    "# This section will use itertools permutations and geodesic from geopy.distance\n",
    "\n",
    "# Assign the list of dictionaries representing locations in cluster 7 to a variable\n",
    "cluster_7 = clusters[7]\n",
    "# Assign the list of dictionaries representing locations in cluster 2 to a variable\n",
    "cluster_2 = clusters[2]\n",
    "# Assign the last location in the shortest route of cluster 7 to a variable\n",
    "last_state_7 = min_route7[-1] #This variable will act as the connector for the route that was calculated for cluster_7 and the route that will be found for cluster_2\n",
    "# Assign the name of the last location to a variable\n",
    "start_location_name = last_state_7['name']\n",
    "\n",
    "# Find the dictionary that matches the name of the last location in cluster 2\n",
    "# If no match is found, assign None to start_location\n",
    "start_location = next((d for d in cluster_7 if d[\"name\"] == start_location_name), None)\n",
    "# Check if start_location is None\n",
    "if start_location is None:\n",
    "    # If yes, print a message indicating that the name is not found in cluster 7\n",
    "    print(f\"No location named {start_location_name} found in cluster_7\")\n",
    "else:\n",
    "    # If no, add the dictionary of the last location to cluster 2\n",
    "    cluster_2.append(start_location)\n",
    "    # Create a copy of cluster 2 without the last location for generating the permutations\n",
    "    cluster_2_without_start = [location for location in cluster_2 if location[\"name\"] != start_location_name]\n",
    "    # Generate all possible permutations of the locations in cluster 2 without the last location\n",
    "    routes = list(itertools.permutations(cluster_2_without_start))\n",
    "    # Add the last location to the beginning of each permutation\n",
    "    routes = [(start_location,) + route for route in routes]    \n",
    "    # Initialize an empty list to store the distances of each route\n",
    "    distances = []\n",
    "    # Loop through each route in routes\n",
    "    for route in routes:\n",
    "        # Initialize a variable to store the total distance of the current route\n",
    "        total_distance = 0\n",
    "        # Loop through each pair of consecutive locations in the route\n",
    "        for i in range(len(route) - 1):\n",
    "            # Assign the first location to location1\n",
    "            location1 = route[i]\n",
    "            # Assign the second location to location2\n",
    "            location2 = route[i + 1]\n",
    "\n",
    "            # Calculate the distance between location1 and location2 using geodesic function\n",
    "            # The function takes the latitude and longitude of each location as arguments\n",
    "            # The function returns the distance in miles\n",
    "            distance = geodesic((location1['latitude'], location1['longitude']),# I received alot of string errors on this line of code, to avoid this ensure that the \"routes\" is defined before the distance function.\n",
    "                                (location2['latitude'], location2['longitude'])).miles\n",
    "            # Add the distance to the total distance of the current route\n",
    "            total_distance += distance\n",
    "        # Append the total distance of the current route to the distances list\n",
    "        distances.append(total_distance)\n",
    "    # Find the minimum distance in the distances list\n",
    "    min_distance2 = min(distances)\n",
    "    # Find the route that corresponds to the minimum distance\n",
    "    min_route2 = routes[distances.index(min_distance2)]\n",
    "    # Print the names of the locations in the shortest route and the total distance\n",
    "    print(f\"Shortest Route: {[location['name'] for location in min_route2]}, Total Distance: {min_distance2:.2f} miles\")# your system can overload really easily when running permutations, try to make your print request as specifc as possible to avoid it outputting too many permutations. Make sure to only request min_distance2 and min_route2, don't request routes or distance."
   ],
   "metadata": {
    "collapsed": false,
    "ExecuteTime": {
     "end_time": "2024-01-25T23:49:04.625529700Z",
     "start_time": "2024-01-25T23:49:04.617258400Z"
    }
   },
   "id": "d2b5de6872299dcc",
   "execution_count": 10
  },
  {
   "cell_type": "code",
   "outputs": [
    {
     "name": "stdout",
     "output_type": "stream",
     "text": [
      "Shortest Route: ['North Dakota', 'Montana', 'Idaho', 'Utah'], Total Distance: 1118.67 miles\n"
     ]
    }
   ],
   "source": [
    "#This section of code will calculate all the possible permutations with the condition that last_state_2 will be the start location of permutation\n",
    "# This section will use itertools permutations and geodesic from geopy.distance\n",
    "\n",
    "# Assign the list of dictionaries representing locations in cluster 2 to a variable\n",
    "cluster_2 = clusters[2]\n",
    "# Assign the list of dictionaries representing locations in cluster 6 to a variable\n",
    "cluster_6 = clusters[6]\n",
    "# Assign the last location in the shortest route of cluster 2 to a variable\n",
    "last_state_2 = min_route2[-1] #This variable will act as the connector for the route that was calculated for cluster_2 and the route that will be found for cluster_6\n",
    "# Assign the name of the last location to a variable\n",
    "start_location_name = last_state_2['name']\n",
    "\n",
    "# Find the dictionary that matches the name of the last location in cluster 2\n",
    "# If no match is found, assign None to start_location\n",
    "start_location = next((d for d in cluster_2 if d[\"name\"] == start_location_name), None)\n",
    "# Check if start_location is None\n",
    "if start_location is None:\n",
    "    # If yes, print a message indicating that the name is not found in cluster 2\n",
    "    print(f\"No location named {start_location_name} found in cluster_2\")\n",
    "else:\n",
    "    # If no, add the dictionary of the last location to cluster 6\n",
    "    cluster_6.append(start_location)\n",
    "    # Create a copy of cluster 6 without the last location for generating the permutations\n",
    "    cluster_6_without_start = [location for location in cluster_6 if location[\"name\"] != start_location_name]\n",
    "    # Generate all possible permutations of the locations in cluster 6 without the last location\n",
    "    routes = list(itertools.permutations(cluster_6_without_start))\n",
    "    # Add the last location to the beginning of each permutation\n",
    "    routes = [(start_location,) + route for route in routes]  \n",
    "    # Initialize an empty list to store the distances of each route\n",
    "    distances = []\n",
    "    # Loop through each route in routes\n",
    "    for route in routes:\n",
    "        # Initialize a variable to store the total distance of the current route\n",
    "        total_distance = 0\n",
    "        # Loop through each pair of consecutive locations in the route\n",
    "        for i in range(len(route) - 1):\n",
    "            # Assign the first location to location1\n",
    "            location1 = route[i]\n",
    "            # Assign the second location to location2\n",
    "            location2 = route[i + 1]\n",
    "            # Calculate the distance between location1 and location2 using geodesic function\n",
    "            # The function takes the latitude and longitude of each location as arguments\n",
    "            # The function returns the distance in miles\n",
    "            distance = geodesic((location1['latitude'], location1['longitude']),# I received alot of string errors on this line of code, to avoid this ensure that the \"routes\" is defined before the distance function.\n",
    "                                (location2['latitude'], location2['longitude'])).miles\n",
    "            # Add the distance to the total distance of the current route\n",
    "            total_distance += distance\n",
    "        # Append the total distance of the current route to the distances list\n",
    "        distances.append(total_distance)\n",
    "    # Find the minimum distance in the distances list\n",
    "    min_distance6 = min(distances)\n",
    "    # Find the route that corresponds to the minimum distance\n",
    "    min_route6 = routes[distances.index(min_distance6)]\n",
    "    # Print the names of the locations in the shortest route and the total distance\n",
    "    print(f\"Shortest Route: {[location['name'] for location in min_route6]}, Total Distance: {min_distance6:.2f} miles\")# your system can overload really easily when running permutations, try to make your print request as specifc as possible to avoid it outputting too many permutations. Make sure to only request min_distance6 and min_route6, don't request routes or distance."
   ],
   "metadata": {
    "collapsed": false,
    "ExecuteTime": {
     "end_time": "2024-01-25T23:49:04.681252900Z",
     "start_time": "2024-01-25T23:49:04.630532500Z"
    }
   },
   "id": "1d5aa9c933d16348",
   "execution_count": 11
  },
  {
   "cell_type": "code",
   "outputs": [
    {
     "name": "stdout",
     "output_type": "stream",
     "text": [
      "Shortest Route: ['Utah', 'Alaska'], Total Distance: 1563.53 miles\n"
     ]
    }
   ],
   "source": [
    "#This section of code will calculate all the possible permutations with the condition that last_state_6 will be the start location of permutation\n",
    "# This section will use itertools permutations and geodesic from geopy.distance\n",
    "\n",
    "# Assign the list of dictionaries representing locations in cluster 6 to a variable\n",
    "cluster_6 = clusters[6]\n",
    "# Assign the list of dictionaries representing locations in cluster 8 to a variable\n",
    "cluster_8 = clusters[8]\n",
    "# Assign the last location in the shortest route of cluster 6 to a variable\n",
    "last_state_6 = min_route6[-1] #This variable will act as the connector for the route that was calculated for cluster_6 and the route that will be found for cluster_8\n",
    "# Assign the name of the last location to a variable\n",
    "start_location_name = last_state_6['name']\n",
    "# Find the dictionary that matches the name of the last location in cluster 6\n",
    "# If no match is found, assign None to start_location\n",
    "start_location = next((d for d in cluster_6 if d[\"name\"] == start_location_name), None)\n",
    "# Check if start_location is None\n",
    "if start_location is None:\n",
    "    # If yes, print a message indicating that the name is not found in cluster 6\n",
    "    print(f\"No location named {start_location_name} found in cluster_6\")\n",
    "else:\n",
    "    # If no, remove the dictionary of the last location from cluster 8 if it's already there\n",
    "    cluster_8 = [location for location in cluster_8 if location[\"name\"] != start_location_name]\n",
    "    # Add the dictionary of the last location to cluster 8\n",
    "    cluster_8.append(start_location)\n",
    "    # Create a copy of cluster 8 without the last location for generating the permutations\n",
    "    cluster_8_without_start = [location for location in cluster_8 if location[\"name\"] != start_location_name]\n",
    "    # Generate all possible permutations of the locations in cluster 8 without the last location\n",
    "    routes = list(itertools.permutations(cluster_8_without_start))\n",
    "    # Add the last location to the beginning of each permutation\n",
    "    routes = [(start_location,) + route for route in routes]    \n",
    "    # Initialize an empty list to store the distances of each route\n",
    "    distances = []\n",
    "    # Loop through each route in routes\n",
    "    for route in routes:\n",
    "        # Initialize a variable to store the total distance of the current route\n",
    "        total_distance = 0\n",
    "        # Loop through each pair of consecutive locations in the route\n",
    "        for i in range(len(route) - 1):\n",
    "            # Assign the first location to location1\n",
    "            location1 = route[i]\n",
    "            # Assign the second location to location2\n",
    "            location2 = route[i + 1]\n",
    "            # Calculate the distance between location1 and location2 using geodesic function\n",
    "            # The function takes the latitude and longitude of each location as arguments\n",
    "            # The function returns the distance in miles\n",
    "            distance = geodesic((location1['latitude'], location1['longitude']),# I received alot of string errors on this line of code, to avoid this ensure that the \"routes\" is defined before the distance function.\n",
    "                                (location2['latitude'], location2['longitude'])).miles\n",
    "            # Add the distance to the total distance of the current route\n",
    "            total_distance += distance\n",
    "        # Append the total distance of the current route to the distances list\n",
    "        distances.append(total_distance)\n",
    "    # Find the minimum distance in the distances list\n",
    "    min_distance8 = min(distances)\n",
    "    # Find the route that corresponds to the minimum distance\n",
    "    min_route8 = routes[distances.index(min_distance8)]\n",
    "    # Print the names of the locations in the shortest route and the total distance\n",
    "    print(f\"Shortest Route: {[location['name'] for location in min_route8]}, Total Distance: {min_distance8:.2f} miles\")# your system can overload really easily when running permutations, try to make your print request as specifc as possible to avoid it outputting too many permutations. Make sure to only request min_distance8 and min_route8, don't request routes or distance.\n"
   ],
   "metadata": {
    "collapsed": false,
    "ExecuteTime": {
     "end_time": "2024-01-25T23:49:04.682252800Z",
     "start_time": "2024-01-25T23:49:04.649737600Z"
    }
   },
   "id": "b442ff45a9122668",
   "execution_count": 12
  },
  {
   "cell_type": "code",
   "outputs": [
    {
     "name": "stdout",
     "output_type": "stream",
     "text": [
      "Shortest Route: ['Alaska', 'Washington', 'Oregon'], Total Distance: 1059.29 miles\n"
     ]
    }
   ],
   "source": [
    "#This section of code will calculate all the possible permutations with the condition that last_state_8 will be the start location of permutation\n",
    "# This section will use itertools permutations and geodesic from geopy.distance\n",
    "\n",
    "# Assign the list of dictionaries representing locations in cluster 8 to a variable\n",
    "cluster_8 = clusters[8]\n",
    "# Assign the list of dictionaries representing locations in cluster 0 to a variable\n",
    "cluster_0 = clusters[0]\n",
    "# Assign the last location in the shortest route of cluster 8 to a variable\n",
    "last_state_8 = min_route8[-1] #This variable will act as the connector for the route that was calculated for cluster_8 and the route that will be found for cluster_0\n",
    "# Assign the name of the last location to a variable\n",
    "start_location_name = last_state_8['name']\n",
    "# Find the dictionary that matches the name of the last location in cluster 8\n",
    "# If no match is found, assign None to start_location\n",
    "start_location = next((d for d in cluster_8 if d[\"name\"] == start_location_name), None)\n",
    "# Check if start_location is None\n",
    "if start_location is None:\n",
    "    # If yes, print a message indicating that the name is not found in cluster 8\n",
    "    print(f\"No location named {start_location_name} found in cluster_8\")\n",
    "else:\n",
    "    # If no, remove the dictionary of the last location from cluster 0 if it's already there\n",
    "    cluster_0 = [location for location in cluster_0 if location[\"name\"] != start_location_name]\n",
    "    # Add the dictionary of the last location to cluster 0\n",
    "    cluster_0.append(start_location)\n",
    "    # Create a copy of cluster 0 without the last location for generating the permutations\n",
    "    cluster_0_without_start = [location for location in cluster_0 if location[\"name\"] != start_location_name]   \n",
    "    # Generate all possible permutations of the locations in cluster 0 without the last location\n",
    "    routes = list(itertools.permutations(cluster_0_without_start))\n",
    "    # Add the last location to the beginning of each permutation\n",
    "    routes = [(start_location,) + route for route in routes]    \n",
    "    # Initialize an empty list to store the distances of each route\n",
    "    distances = []\n",
    "    # Loop through each route in routes\n",
    "    for route in routes:\n",
    "        # Initialize a variable to store the total distance of the current route\n",
    "        total_distance = 0\n",
    "        # Loop through each pair of consecutive locations in the route\n",
    "        for i in range(len(route) - 1):\n",
    "            # Assign the first location to location1\n",
    "            location1 = route[i]\n",
    "            # Assign the second location to location2\n",
    "            location2 = route[i + 1]\n",
    "            # Calculate the distance between location1 and location2 using geodesic function\n",
    "            # The function takes the latitude and longitude of each location as arguments\n",
    "            # The function returns the distance in miles\n",
    "            distance = geodesic((location1['latitude'], location1['longitude']),# I received alot of string errors on this line of code, to avoid this ensure that the \"routes\" is defined before the distance function.\n",
    "                                (location2['latitude'], location2['longitude'])).miles\n",
    "            # Add the distance to the total distance of the current route\n",
    "            total_distance += distance\n",
    "        # Append the total distance of the current route to the distances list\n",
    "        distances.append(total_distance)\n",
    "    # Find the minimum distance in the distances list\n",
    "    min_distance0 = min(distances)\n",
    "    # Find the route that corresponds to the minimum distance\n",
    "    min_route0 = routes[distances.index(min_distance0)]\n",
    "    # Print the names of the locations in the shortest route and the total distance\n",
    "    print(f\"Shortest Route: {[location['name'] for location in min_route0]}, Total Distance: {min_distance0:.2f} miles\")# your system can overload really easily when running permutations, try to make your print request as specifc as possible to avoid it outputting too many permutations. Make sure to only request min_distance0 and min_route0, don't request routes or distance.\n"
   ],
   "metadata": {
    "collapsed": false,
    "ExecuteTime": {
     "end_time": "2024-01-25T23:49:04.703542800Z",
     "start_time": "2024-01-25T23:49:04.662578500Z"
    }
   },
   "id": "9a8d57cdaf9dc468",
   "execution_count": 13
  },
  {
   "cell_type": "code",
   "outputs": [
    {
     "name": "stdout",
     "output_type": "stream",
     "text": [
      "Shortest Route: ['Oregon', 'Nevada', 'California'], Total Distance: 533.96 miles\n"
     ]
    }
   ],
   "source": [
    "#This section of code will calculate all the possible permutations with the condition that last_state_0 will be the start location of permutation\n",
    "# This section will use itertools permutations and geodesic from geopy.distance\n",
    "\n",
    "cluster_0 = clusters[0]\n",
    "# Assign the list of dictionaries representing locations in cluster 11 to a variable\n",
    "cluster_11 = clusters[11]\n",
    "# Assign the last location in the shortest route of cluster 0 to a variable\n",
    "last_state_0 = min_route0[-1] #This variable will act as the connector for the route that was calculated for cluster_0 and the route that will be found for cluster_11\n",
    "# Assign the name of the last location to a variable\n",
    "start_location_name = last_state_0['name']\n",
    "\n",
    "# Find the dictionary that matches the name of the last location in cluster 0\n",
    "# If no match is found, assign None to start_location\n",
    "start_location = next((d for d in cluster_0 if d[\"name\"] == start_location_name), None)\n",
    "\n",
    "# Check if start_location is None\n",
    "if start_location is None:\n",
    "    # If yes, print a message indicating that the name is not found in cluster 0\n",
    "    print(f\"No location named {start_location_name} found in cluster_0\")\n",
    "else:\n",
    "    # If no, remove the dictionary of the last location from cluster 11 if it's already there\n",
    "    cluster_11 = [location for location in cluster_11 if location[\"name\"] != start_location_name]\n",
    "    # Add the dictionary of the last location to cluster 11\n",
    "    cluster_11.append(start_location)\n",
    "    # Create a copy of cluster 11 without the last location for generating the permutations\n",
    "    cluster_11_without_start = [location for location in cluster_11 if location[\"name\"] != start_location_name]   \n",
    "    # Generate all possible permutations of the locations in cluster 11 without the last location\n",
    "    routes = list(itertools.permutations(cluster_11_without_start))\n",
    "    # Add the last location to the beginning of each permutation\n",
    "    routes = [(start_location,) + route for route in routes]  \n",
    "    # Initialize an empty list to store the distances of each route\n",
    "    distances = []\n",
    "    # Loop through each route in routes\n",
    "    for route in routes:\n",
    "        # Initialize a variable to store the total distance of the current route\n",
    "        total_distance = 0\n",
    "        # Loop through each pair of consecutive locations in the route\n",
    "        for i in range(len(route) - 1):\n",
    "            # Assign the first location to location1\n",
    "            location1 = route[i]\n",
    "            # Assign the second location to location2\n",
    "            location2 = route[i + 1]\n",
    "            # Calculate the distance between location1 and location2 using geodesic function\n",
    "            # The function takes the latitude and longitude of each location as arguments\n",
    "            # The function returns the distance in miles\n",
    "            distance = geodesic((location1['latitude'], location1['longitude']),# I received alot of string errors on this line of code, to avoid this ensure that the \"routes\" is defined before the distance function.\n",
    "                                (location2['latitude'], location2['longitude'])).miles\n",
    "            # Add the distance to the total distance of the current route\n",
    "            total_distance += distance\n",
    "        # Append the total distance of the current route to the distances list\n",
    "        distances.append(total_distance)\n",
    "    # Find the minimum distance in the distances list\n",
    "    min_distance11 = min(distances)\n",
    "    # Find the route that corresponds to the minimum distance\n",
    "    min_route11 = routes[distances.index(min_distance11)]\n",
    "    # Print the names of the locations in the shortest route and the total distance\n",
    "    print(f\"Shortest Route: {[location['name'] for location in min_route11]}, Total Distance: {min_distance11:.2f} miles\")# your system can overload really easily when running permutations, try to make your print request as specifc as possible to avoid it outputting too many permutations. Make sure to only request min_distance11 and min_route11, don't request routes or distance."
   ],
   "metadata": {
    "collapsed": false,
    "ExecuteTime": {
     "end_time": "2024-01-25T23:49:04.796789500Z",
     "start_time": "2024-01-25T23:49:04.675252100Z"
    }
   },
   "id": "fa06dc9108ee5a64",
   "execution_count": 14
  },
  {
   "cell_type": "code",
   "outputs": [
    {
     "name": "stdout",
     "output_type": "stream",
     "text": [
      "Shortest Route: ['California', 'Hawaii'], Total Distance: 2461.71 miles\n"
     ]
    }
   ],
   "source": [
    "#This section of code will calculate all the possible permutations with the condition that last_state_11 will be the start location of permutation\n",
    "# This section will use itertools permutations and geodesic from geopy.distance\n",
    "\n",
    "# Assign the list of dictionaries representing locations in cluster 11 to a variable\n",
    "cluster_11 = clusters[11]\n",
    "# Assign the list of dictionaries representing locations in cluster 4 to a variable\n",
    "cluster_4 = clusters[4]\n",
    "# Assign the last location in the shortest route of cluster 11 to a variable\n",
    "last_state_11 = min_route11[-1] #This variable will act as the connector for the route that was calculated for cluster_11 and the route that will be found for cluster_4\n",
    "# Assign the name of the last location to a variable\n",
    "start_location_name = last_state_11['name']\n",
    "# Find the dictionary that matches the name of the last location in cluster 11\n",
    "# If no match is found, assign None to start_location\n",
    "start_location = next((d for d in cluster_11 if d[\"name\"] == start_location_name), None)\n",
    "# Check if start_location is None\n",
    "if start_location is None:\n",
    "    # If yes, print a message indicating that the name is not found in cluster 11\n",
    "    print(f\"No location named {start_location_name} found in cluster_11\")\n",
    "else:\n",
    "    # If no, remove the dictionary of the last location from cluster 4 if it's already there\n",
    "    cluster_4 = [location for location in cluster_4 if location[\"name\"] != start_location_name]\n",
    "    # Add the dictionary of the last location to cluster 4\n",
    "    cluster_4.append(start_location)\n",
    "    # Create a copy of cluster 4 without the last location for generating the permutations\n",
    "    cluster_4_without_start = [location for location in cluster_4 if location[\"name\"] != start_location_name]\n",
    "    # Generate all possible permutations of the locations in cluster 4 without the last location\n",
    "    routes = list(itertools.permutations(cluster_4_without_start))\n",
    "    # Add the last location to the beginning of each permutation\n",
    "    routes = [(start_location,) + route for route in routes]  \n",
    "    # Initialize an empty list to store the distances of each route\n",
    "    distances = []\n",
    "    # Loop through each route in routes\n",
    "    for route in routes:\n",
    "        # Initialize a variable to store the total distance of the current route\n",
    "        total_distance = 0\n",
    "        # Loop through each pair of consecutive locations in the route\n",
    "        for i in range(len(route) - 1):\n",
    "            # Assign the first location to location1\n",
    "            location1 = route[i]\n",
    "            # Assign the second location to location2\n",
    "            location2 = route[i + 1]\n",
    "            # Calculate the distance between location1 and location2 using geodesic function\n",
    "            # The function takes the latitude and longitude of each location as arguments\n",
    "            # The function returns the distance in miles\n",
    "            distance = geodesic((location1['latitude'], location1['longitude']),# I received alot of string errors on this line of code, to avoid this ensure that the \"routes\" is defined before the distance function.\n",
    "                                (location2['latitude'], location2['longitude'])).miles\n",
    "            # Add the distance to the total distance of the current route\n",
    "            total_distance += distance\n",
    "        # Append the total distance of the current route to the distances list\n",
    "        distances.append(total_distance)\n",
    "    # Find the minimum distance in the distances list\n",
    "    min_distance4 = min(distances)\n",
    "    # Find the route that corresponds to the minimum distance\n",
    "    min_route4 = routes[distances.index(min_distance4)]\n",
    "\n",
    "    # Print the names of the locations in the shortest route and the total distance\n",
    "    print(f\"Shortest Route: {[location['name'] for location in min_route4]}, Total Distance: {min_distance4:.2f} miles\")# your system can overload really easily when running permutations, try to make your print request as specifc as possible to avoid it outputting too many permutations. Make sure to only request min_distance4 and min_route4, don't request routes or distance.\n"
   ],
   "metadata": {
    "collapsed": false,
    "ExecuteTime": {
     "end_time": "2024-01-25T23:49:04.798993300Z",
     "start_time": "2024-01-25T23:49:04.694170100Z"
    }
   },
   "id": "7e95afeb4732ed82",
   "execution_count": 15
  },
  {
   "cell_type": "code",
   "outputs": [
    {
     "name": "stdout",
     "output_type": "stream",
     "text": [
      "Shortest Route: ['Hawaii', 'Arizona', 'New Mexico', 'Colorado'], Total Distance: 3577.05 miles\n"
     ]
    }
   ],
   "source": [
    "#This section of code will calculate all the possible permutations with the condition that last_state_4 will be the start location of permutation\n",
    "# This section will use itertools permutations and geodesic from geopy.distance\n",
    "\n",
    "# Assign the list of dictionaries representing locations in cluster 4 to a variable\n",
    "cluster_4 = clusters[4]\n",
    "# Assign the list of dictionaries representing locations in cluster 10 to a variable\n",
    "cluster_10 = clusters[10]\n",
    "# Assign the last location in the shortest route of cluster 4 to a variable\n",
    "last_state_4 = min_route4[-1] #This variable will act as the connector for the route that was calculated for cluster_4 and the route that will be found for cluster_10\n",
    "# Assign the name of the last location to a variable\n",
    "start_location_name = last_state_4['name']\n",
    "# Find the dictionary that matches the name of the last location in cluster 4\n",
    "# If no match is found, assign None to start_location\n",
    "start_location = next((d for d in cluster_4 if d[\"name\"] == start_location_name), None)\n",
    "# Check if start_location is None\n",
    "if start_location is None:\n",
    "    # If yes, print a message indicating that the name is not found in cluster 4\n",
    "    print(f\"No location named {start_location_name} found in cluster_4\")\n",
    "else:\n",
    "    # If no, remove the dictionary of the last location from cluster 10 if it's already there\n",
    "    cluster_10 = [location for location in cluster_10 if location[\"name\"] != start_location_name]\n",
    "    # Add the dictionary of the last location to cluster 10\n",
    "    cluster_10.append(start_location)\n",
    "    # Create a copy of cluster 10 without the last location for generating the permutations\n",
    "    cluster_10_without_start = [location for location in cluster_10 if location[\"name\"] != start_location_name]  \n",
    "    # Generate all possible permutations of the locations in cluster 10 without the last location\n",
    "    routes = list(itertools.permutations(cluster_10_without_start))\n",
    "    # Add the last location to the beginning of each permutation\n",
    "    routes = [(start_location,) + route for route in routes]  \n",
    "    # Initialize an empty list to store the distances of each route\n",
    "    distances = []\n",
    "    # Loop through each route in routes\n",
    "    for route in routes:\n",
    "        # Initialize a variable to store the total distance of the current route\n",
    "        total_distance = 0\n",
    "        # Loop through each pair of consecutive locations in the route\n",
    "        for i in range(len(route) - 1):\n",
    "            # Assign the first location to location1\n",
    "            location1 = route[i]\n",
    "            # Assign the second location to location2\n",
    "            location2 = route[i + 1]\n",
    "            # Calculate the distance between location1 and location2 using geodesic function\n",
    "            # The function takes the latitude and longitude of each location as arguments\n",
    "            # The function returns the distance in miles\n",
    "            distance = geodesic((location1['latitude'], location1['longitude']),# I received alot of string errors on this line of code, to avoid this ensure that the \"routes\" is defined before the distance function.\n",
    "                                (location2['latitude'], location2['longitude'])).miles\n",
    "\n",
    "            # Add the distance to the total distance of the current route\n",
    "            total_distance += distance\n",
    "\n",
    "        # Append the total distance of the current route to the distances list\n",
    "        distances.append(total_distance)\n",
    "\n",
    "    # Find the minimum distance in the distances list\n",
    "    min_distance10 = min(distances)\n",
    "\n",
    "    # Find the route that corresponds to the minimum distance\n",
    "    min_route10 = routes[distances.index(min_distance10)]\n",
    "\n",
    "    # Print the names of the locations in the shortest route and the total distance\n",
    "    print(f\"Shortest Route: {[location['name'] for location in min_route10]}, Total Distance: {min_distance10:.2f} miles\")\n",
    " # your system can overload really easily when running permutations, try to make your print request as specifc as possible to avoid it outputting too many permutations. Make sure to only request min_distance10 and min_route10, don't request routes or distance."
   ],
   "metadata": {
    "collapsed": false,
    "ExecuteTime": {
     "end_time": "2024-01-25T23:49:04.820220800Z",
     "start_time": "2024-01-25T23:49:04.706615500Z"
    }
   },
   "id": "9ee079e323be3925",
   "execution_count": 16
  },
  {
   "cell_type": "code",
   "outputs": [
    {
     "name": "stdout",
     "output_type": "stream",
     "text": [
      "Shortest Route: ['Colorado', 'Texas', 'Louisiana', 'Mississippi', 'Arkansas'], Total Distance: 1510.06 miles\n"
     ]
    }
   ],
   "source": [
    "#This section of code will calculate all the possible permutations with the condition that last_state_10 will be the start location of permutation\n",
    "# This section will use itertools permutations and geodesic from geopy.distance\n",
    "\n",
    "# Assign the list of dictionaries representing locations in cluster 10 to a variable\n",
    "cluster_10 = clusters[10]\n",
    "# Assign the list of dictionaries representing locations in cluster 3 to a variable\n",
    "cluster_3 = clusters[3]\n",
    "# Assign the last location in the shortest route of cluster 10 to a variable\n",
    "last_state_10 = min_route10[-1] #This variable will act as the connector for the route that was calculated for cluster_10 and the route that will be found for cluster_3\n",
    "# Assign the name of the last location to a variable\n",
    "start_location_name = last_state_10['name']\n",
    "# Find the dictionary that matches the name of the last location in cluster 10\n",
    "# If no match is found, assign None to start_location\n",
    "start_location = next((d for d in cluster_10 if d[\"name\"] == start_location_name), None)\n",
    "# Check if start_location is None\n",
    "if start_location is None:\n",
    "    # If yes, print a message indicating that the name is not found in cluster 10\n",
    "    print(f\"No location named {start_location_name} found in cluster_10\")\n",
    "else:\n",
    "    # If no, remove the dictionary of the last location from cluster 3 if it's already there\n",
    "    cluster_3 = [location for location in cluster_3 if location[\"name\"] != start_location_name]\n",
    "    # Add the dictionary of the last location to cluster 3\n",
    "    cluster_3.append(start_location)\n",
    "    # Create a copy of cluster 3 without the last location for generating the permutations\n",
    "    cluster_3_without_start = [location for location in cluster_3 if location[\"name\"] != start_location_name]   \n",
    "    # Generate all possible permutations of the locations in cluster 3 without the last location\n",
    "    routes = list(itertools.permutations(cluster_3_without_start))\n",
    "    # Add the last location to the beginning of each permutation\n",
    "    routes = [(start_location,) + route for route in routes]\n",
    "    \n",
    "    # Initialize an empty list to store the distances of each route\n",
    "    distances = []\n",
    "    # Loop through each route in routes\n",
    "    for route in routes:\n",
    "        # Initialize a variable to store the total distance of the current route\n",
    "        total_distance = 0\n",
    "        # Loop through each pair of consecutive locations in the route\n",
    "        for i in range(len(route) - 1):\n",
    "            # Assign the first location to location1\n",
    "            location1 = route[i]\n",
    "            # Assign the second location to location2\n",
    "            location2 = route[i + 1]\n",
    "            # Calculate the distance between location1 and location2 using geodesic function\n",
    "            # The function takes the latitude and longitude of each location as arguments\n",
    "            # The function returns the distance in miles\n",
    "            distance = geodesic((location1['latitude'], location1['longitude']),# I received alot of string errors on this line of code, to avoid this ensure that the \"routes\" is defined before the distance function.\n",
    "                                (location2['latitude'], location2['longitude'])).miles\n",
    "            # Add the distance to the total distance of the current route\n",
    "            total_distance += distance\n",
    "        # Append the total distance of the current route to the distances list\n",
    "        distances.append(total_distance)\n",
    "    # Find the minimum distance in the distances list\n",
    "    min_distance3 = min(distances)\n",
    "    # Find the route that corresponds to the minimum distance\n",
    "    min_route3 = routes[distances.index(min_distance3)]\n",
    "\n",
    "    # Print the names of the locations in the shortest route and the total distance\n",
    "    print(f\"Shortest Route: {[location['name'] for location in min_route3]}, Total Distance: {min_distance3:.2f} miles\")\n",
    " # your system can overload really easily when running permutations, try to make your print request as specifc as possible to avoid it outputting too many permutations. Make sure to only request min_distance3 and min_route3, don't request routes or distance."
   ],
   "metadata": {
    "collapsed": false,
    "ExecuteTime": {
     "end_time": "2024-01-25T23:49:04.884314700Z",
     "start_time": "2024-01-25T23:49:04.720554800Z"
    }
   },
   "id": "31bcdf94b1d1398e",
   "execution_count": 17
  },
  {
   "cell_type": "code",
   "outputs": [
    {
     "name": "stdout",
     "output_type": "stream",
     "text": [
      "Shortest Route: ['Arkansas', 'Alabama', 'Georgia', 'Florida'], Total Distance: 756.02 miles\n"
     ]
    }
   ],
   "source": [
    "#This section of code will calculate all the possible permutations with the condition that last_state_3 will be the start location of permutation\n",
    "# This section will use itertools permutations and geodesic from geopy.distance\n",
    "\n",
    "# Assign the list of dictionaries representing locations in cluster 3 to a variable\n",
    "cluster_3 = clusters[3]\n",
    "# Assign the list of dictionaries representing locations in cluster 12 to a variable\n",
    "cluster_12 = clusters[12]\n",
    "# Assign the last location in the shortest route of cluster 3 to a variable\n",
    "last_state_3 = min_route3[-1] #This variable will act as the connector for the route that was calculated for cluster_3 and the route that will be found for cluster_12\n",
    "# Assign the name of the last location to a variable\n",
    "start_location_name = last_state_3['name']\n",
    "# Find the dictionary that matches the name of the last location in cluster 3\n",
    "# If no match is found, assign None to start_location\n",
    "start_location = next((d for d in cluster_3 if d[\"name\"] == start_location_name), None)\n",
    "# Check if start_location is None\n",
    "if start_location is None:\n",
    "    # If yes, print a message indicating that the name is not found in cluster 3\n",
    "    print(f\"No location named {start_location_name} found in cluster_3\")\n",
    "else:\n",
    "    # If no, remove the dictionary of the last location from cluster 12 if it's already there\n",
    "    cluster_12 = [location for location in cluster_12 if location[\"name\"] != start_location_name]\n",
    "    # Add the dictionary of the last location to cluster 12\n",
    "    cluster_12.append(start_location)\n",
    "    # Create a copy of cluster 12 without the last location for generating the permutations\n",
    "    cluster_12_without_start = [location for location in cluster_12 if location[\"name\"] != start_location_name]  \n",
    "    # Generate all possible permutations of the locations in cluster 12 without the last location\n",
    "    routes = list(itertools.permutations(cluster_12_without_start))\n",
    "    # Add the last location to the beginning of each permutation\n",
    "    routes = [(start_location,) + route for route in routes]    \n",
    "    # Initialize an empty list to store the distances of each route\n",
    "    distances = []\n",
    "    # Loop through each route in routes\n",
    "    for route in routes:\n",
    "        # Initialize a variable to store the total distance of the current route\n",
    "        total_distance = 0\n",
    "        # Loop through each pair of consecutive locations in the route\n",
    "        for i in range(len(route) - 1):\n",
    "            # Assign the first location to location1\n",
    "            location1 = route[i]\n",
    "            # Assign the second location to location2\n",
    "            location2 = route[i + 1]\n",
    "            # Calculate the distance between location1 and location2 using geodesic function\n",
    "            # The function takes the latitude and longitude of each location as arguments\n",
    "            # The function returns the distance in miles\n",
    "            distance = geodesic((location1['latitude'], location1['longitude']),# I received alot of string errors on this line of code, to avoid this ensure that the \"routes\" is defined before the distance function.\n",
    "                                (location2['latitude'], location2['longitude'])).miles\n",
    "            # Add the distance to the total distance of the current route\n",
    "            total_distance += distance\n",
    "        # Append the total distance of the current route to the distances list\n",
    "        distances.append(total_distance)\n",
    "    # Find the minimum distance in the distances list\n",
    "    min_distance12 = min(distances)\n",
    "    # Find the route that corresponds to the minimum distance\n",
    "    min_route12 = routes[distances.index(min_distance12)]\n",
    "    # Print the names of the locations in the shortest route and the total distance\n",
    "    print(f\"Shortest Route: {[location['name'] for location in min_route12]}, Total Distance: {min_distance12:.2f} miles\") # your system can overload really easily when running permutations, try to make your print request as specifc as possible to avoid it outputting too many permutations. Make sure to only request min_distance12 and min_route12, don't request routes or distance."
   ],
   "metadata": {
    "collapsed": false,
    "ExecuteTime": {
     "end_time": "2024-01-25T23:49:04.885314800Z",
     "start_time": "2024-01-25T23:49:04.750092900Z"
    }
   },
   "id": "d807ee93356cd6a1",
   "execution_count": 18
  },
  {
   "cell_type": "code",
   "outputs": [
    {
     "name": "stdout",
     "output_type": "stream",
     "text": [
      "Shortest Route: ['Florida', 'South Carolina', 'North Carolina', 'West Virginia'], Total Distance: 734.60 miles\n"
     ]
    }
   ],
   "source": [
    "#This section of code will calculate all the possible permutations with the condition that last_state_12 will be the start location of permutation\n",
    "# This section will use itertools permutations and geodesic from geopy.distance\n",
    "\n",
    "# Assign the list of dictionaries representing locations in cluster 12 to a variable\n",
    "cluster_12 = clusters[12]\n",
    "# Assign the list of dictionaries representing locations in cluster 1 to a variable\n",
    "cluster_1 = clusters[1]\n",
    "# Assign the last location in the shortest route of cluster 12 to a variable\n",
    "last_state_12 = min_route12[-1] #This variable will act as the connector for the route that was calculated for cluster_12 and the route that will be found for cluster_1\n",
    "# Assign the name of the last location to a variable\n",
    "start_location_name = last_state_12['name']\n",
    "# Find the dictionary that matches the name of the last location in cluster 12\n",
    "# If no match is found, assign None to start_location\n",
    "start_location = next((d for d in cluster_12 if d[\"name\"] == start_location_name), None)\n",
    "# Check if start_location is None\n",
    "if start_location is None:\n",
    "    # If yes, print a message indicating that the name is not found in cluster 12\n",
    "    print(f\"No location named {start_location_name} found in cluster_12\")\n",
    "else:\n",
    "    # If no, remove the dictionary of the last location from cluster 1 if it's already there\n",
    "    cluster_1 = [location for location in cluster_1 if location[\"name\"] != start_location_name]\n",
    "    # Add the dictionary of the last location to cluster 1\n",
    "    cluster_1.append(start_location)\n",
    "    # Create a copy of cluster 1 without the last location for generating the permutations\n",
    "    cluster_1_without_start = [location for location in cluster_1 if location[\"name\"] != start_location_name]   \n",
    "    # Generate all possible permutations of the locations in cluster 1 without the last location\n",
    "    routes = list(itertools.permutations(cluster_1_without_start))\n",
    "    # Add the last location to the beginning of each permutation\n",
    "    routes = [(start_location,) + route for route in routes] \n",
    "    # Initialize an empty list to store the distances of each route\n",
    "    distances = []\n",
    "    # Loop through each route in routes\n",
    "    for route in routes:\n",
    "        # Initialize a variable to store the total distance of the current route\n",
    "        total_distance = 0\n",
    "        # Loop through each pair of consecutive locations in the route\n",
    "        for i in range(len(route) - 1):\n",
    "            # Assign the first location to location1\n",
    "            location1 = route[i]\n",
    "            # Assign the second location to location2\n",
    "            location2 = route[i + 1]\n",
    "            # Calculate the distance between location1 and location2 using geodesic function\n",
    "            # The function takes the latitude and longitude of each location as arguments\n",
    "            # The function returns the distance in miles\n",
    "            distance = geodesic((location1['latitude'], location1['longitude']),# I received alot of string errors on this line of code, to avoid this ensure that the \"routes\" is defined before the distance function.\n",
    "                                (location2['latitude'], location2['longitude'])).miles\n",
    "            # Add the distance to the total distance of the current route\n",
    "            total_distance += distance\n",
    "        # Append the total distance of the current route to the distances list\n",
    "        distances.append(total_distance)\n",
    "    # Find the minimum distance in the distances list\n",
    "    min_distance1 = min(distances)\n",
    "    # Find the route that corresponds to the minimum distance\n",
    "    min_route1 = routes[distances.index(min_distance1)]\n",
    "\n",
    "    # Print the names of the locations in the shortest route and the total distance\n",
    "    print(f\"Shortest Route: {[location['name'] for location in min_route1]}, Total Distance: {min_distance1:.2f} miles\")# your system can overload really easily when running permutations, try to make your print request as specifc as possible to avoid it outputting too many permutations. Make sure to only request min_distance1 and min_route1, don't request routes or distance.\n",
    "    "
   ],
   "metadata": {
    "collapsed": false,
    "ExecuteTime": {
     "end_time": "2024-01-25T23:49:04.888316600Z",
     "start_time": "2024-01-25T23:49:04.770555Z"
    }
   },
   "id": "7e16d1719d437b15",
   "execution_count": 19
  },
  {
   "cell_type": "code",
   "outputs": [
    {
     "name": "stdout",
     "output_type": "stream",
     "text": [
      "Shortest Route: ['West Virginia', 'Ohio', 'Michigan', 'Wisconsin', 'Illinois', 'Indiana', 'Kentucky', 'Tennessee'], Total Distance: 1304.84 miles\n"
     ]
    }
   ],
   "source": [
    "#This section of code will calculate all the possible permutations with the condition that last_state_1 will be the start location of permutation\n",
    "# This section will use itertools permutations and geodesic from geopy.distance\n",
    "\n",
    "# Assign the list of dictionaries representing locations in cluster 1 to a variable\n",
    "cluster_1 = clusters[1]\n",
    "# Assign the list of dictionaries representing locations in cluster 9 to a variable\n",
    "cluster_9 = clusters[9]\n",
    "# Assign the last location in the shortest route of cluster 1 to a variable\n",
    "last_state_1 = min_route1[-1] #This variable will act as the connector for the route that was calculated for cluster_1 and the route that will be found for cluster_9\n",
    "# Assign the name of the last location to a variable\n",
    "start_location_name = last_state_1['name']\n",
    "# Find the dictionary that matches the name of the last location in cluster 1\n",
    "# If no match is found, assign None to start_location\n",
    "start_location = next((d for d in cluster_1 if d[\"name\"] == start_location_name), None)\n",
    "# Check if start_location is None\n",
    "if start_location is None:\n",
    "    # If yes, print a message indicating that the name is not found in cluster 1\n",
    "    print(f\"No location named {start_location_name} found in cluster_1\")\n",
    "else:\n",
    "    # If no, remove the dictionary of the last location from cluster 9 if it's already there\n",
    "    cluster_9 = [location for location in cluster_9 if location[\"name\"] != start_location_name]\n",
    "    # Add the dictionary of the last location to cluster 9\n",
    "    cluster_9.append(start_location)\n",
    "    # Create a copy of cluster 9 without the last location for generating the permutations\n",
    "    cluster_9_without_start = [location for location in cluster_9 if location[\"name\"] != start_location_name]\n",
    "    # Generate all possible permutations of the locations in cluster 9 without the last location\n",
    "    routes = list(itertools.permutations(cluster_9_without_start))\n",
    "    # Add the last location to the beginning of each permutation\n",
    "    routes = [(start_location,) + route for route in routes]  \n",
    "    # Initialize an empty list to store the distances of each route\n",
    "    distances = []\n",
    "    # Loop through each route in routes\n",
    "    for route in routes:\n",
    "        # Initialize a variable to store the total distance of the current route\n",
    "        total_distance = 0\n",
    "        # Loop through each pair of consecutive locations in the route\n",
    "        for i in range(len(route) - 1):\n",
    "            # Assign the first location to location1\n",
    "            location1 = route[i]\n",
    "            # Assign the second location to location2\n",
    "            location2 = route[i + 1]\n",
    "            # Calculate the distance between location1 and location2 using geodesic function\n",
    "            # The function takes the latitude and longitude of each location as arguments\n",
    "            # The function returns the distance in miles\n",
    "            distance = geodesic((location1['latitude'], location1['longitude']),# I received alot of string errors on this line of code, to avoid this ensure that the \"routes\" is defined before the distance function.\n",
    "                                (location2['latitude'], location2['longitude'])).miles\n",
    "            # Add the distance to the total distance of the current route\n",
    "            total_distance += distance\n",
    "        # Append the total distance of the current route to the distances list\n",
    "        distances.append(total_distance)\n",
    "    # Find the minimum distance in the distances list\n",
    "    min_distance9 = min(distances)\n",
    "    # Find the route that corresponds to the minimum distance\n",
    "    min_route9 = routes[distances.index(min_distance9)]\n",
    "    # Print the names of the locations in the shortest route and the total distance\n",
    "    print(f\"Shortest Route: {[location['name'] for location in min_route9]}, Total Distance: {min_distance9:.2f} miles\")# your system can overload really easily when running permutations, try to make your print request as specifc as possible to avoid it outputting too many permutations. Make sure to only request min_distance9 and min_route9, don't request routes or distance."
   ],
   "metadata": {
    "collapsed": false,
    "ExecuteTime": {
     "end_time": "2024-01-25T23:49:09.346469Z",
     "start_time": "2024-01-25T23:49:04.791275500Z"
    }
   },
   "id": "52c21163e5cfb401",
   "execution_count": 20
  },
  {
   "cell_type": "code",
   "outputs": [
    {
     "name": "stdout",
     "output_type": "stream",
     "text": [
      "Shortest Route: ['Tennessee', 'New York', 'Connecticut', 'Rhode Island', 'Massachusetts', 'New Hampshire', 'Vermont', 'Maine'], Total Distance: 1307.52 miles\n"
     ]
    }
   ],
   "source": [
    "#This section of code will calculate all the possible permutations with the condition that last_state_9 will be the start location of permutation\n",
    "# This section will use itertools permutations and geodesic from geopy.distance\n",
    "\n",
    "# Assign the list of dictionaries representing locations in cluster 9 to a variable\n",
    "cluster_9 = clusters[9]\n",
    "# Assign the list of dictionaries representing locations in cluster 5 to a variable\n",
    "cluster_5 = clusters[5]\n",
    "# Assign the last location in the shortest route of cluster 9 to a variable\n",
    "last_state_9 = min_route9[-1] #This variable will act as the connector for the route that was calculated for cluster_9 and the route that will be found for cluster_9\n",
    "# Assign the name of the last location to a variable\n",
    "start_location_name = last_state_9['name']\n",
    "# Find the dictionary that matches the name of the last location in cluster 9\n",
    "# If no match is found, assign None to start_location\n",
    "start_location = next((d for d in cluster_9 if d[\"name\"] == start_location_name), None)\n",
    "# Check if start_location is None\n",
    "if start_location is None:\n",
    "    # If yes, print a message indicating that the name is not found in cluster 9\n",
    "    print(f\"No location named {start_location_name} found in cluster_9\")\n",
    "else:\n",
    "    # If no, remove the dictionary of the last location from cluster 5 if it's already there\n",
    "    cluster_5 = [location for location in cluster_5 if location[\"name\"] != start_location_name]\n",
    "    # Add the dictionary of the last location to cluster 5\n",
    "    cluster_5.append(start_location)\n",
    "    # Create a copy of cluster 5 without the last location for generating the permutations\n",
    "    cluster_5_without_start = [location for location in cluster_5 if location[\"name\"] != start_location_name]    \n",
    "    # Generate all possible permutations of the locations in cluster 5 without the last location\n",
    "    routes = list(itertools.permutations(cluster_5_without_start))\n",
    "    # Add the last location to the beginning of each permutation\n",
    "    routes = [(start_location,) + route for route in routes]    \n",
    "    # Initialize an empty list to store the distances of each route\n",
    "    distances = []\n",
    "    # Loop through each route in routes\n",
    "    for route in routes:\n",
    "        # Initialize a variable to store the total distance of the current route\n",
    "        total_distance = 0\n",
    "        # Loop through each pair of consecutive locations in the route\n",
    "        for i in range(len(route) - 1):\n",
    "            # Assign the first location to location1\n",
    "            location1 = route[i]\n",
    "            # Assign the second location to location2\n",
    "            location2 = route[i + 1]\n",
    "            # Calculate the distance between location1 and location2 using geodesic function\n",
    "            # The function takes the latitude and longitude of each location as arguments\n",
    "            # The function returns the distance in miles\n",
    "            distance = geodesic((location1['latitude'], location1['longitude']),# I received alot of string errors on this line of code, to avoid this ensure that the \"routes\" is defined before the distance function.\n",
    "                                (location2['latitude'], location2['longitude'])).miles\n",
    "            # Add the distance to the total distance of the current route\n",
    "            total_distance += distance\n",
    "        # Append the total distance of the current route to the distances list\n",
    "        distances.append(total_distance)\n",
    "    # Find the minimum distance in the distances list\n",
    "    min_distance5 = min(distances)\n",
    "    # Find the route that corresponds to the minimum distance\n",
    "    min_route5 = routes[distances.index(min_distance5)]\n",
    "    # Print the names of the locations in the shortest route and the total distance\n",
    "    print(f\"Shortest Route: {[location['name'] for location in min_route5]}, Total Distance: {min_distance5:.2f} miles\")# your system can overload really easily when running permutations, try to make your print request as specifc as possible to avoid it outputting too many permutations. Make sure to only request min_distance5 and min_route5, don't request routes or distance.\n",
    "    "
   ],
   "metadata": {
    "collapsed": false,
    "ExecuteTime": {
     "end_time": "2024-01-25T23:49:13.962145800Z",
     "start_time": "2024-01-25T23:49:09.453366300Z"
    }
   },
   "id": "a1c084388e8fef26",
   "execution_count": 21
  },
  {
   "cell_type": "code",
   "outputs": [
    {
     "name": "stdout",
     "output_type": "stream",
     "text": [
      "Shortest Route: ['Maine', 'New Jersey', 'Pennsylvania', 'Delaware', 'Maryland', 'Virginia', 'DC '], Total Distance: 859.23 miles\n"
     ]
    }
   ],
   "source": [
    "#This section of code will calculate all the possible permutations with the condition that last_state_5 will be the start location of permutation and DC will be the last location\n",
    "# This section will use itertools permutations and geodesic from geopy.distance\n",
    "\n",
    "# Assign the list of dictionaries in clusters[5] to cluster_5\n",
    "cluster_5 = clusters[5]\n",
    "# Assign the list of dictionaries in clusters[13] to cluster_13\n",
    "cluster_13 = clusters[13]\n",
    "# Get the last location in the shortest route of cluster_5 and assign it to last_state_5\n",
    "last_state_5 = min_route5[-1] #This variable will act as the connector for the route that was calculated for cluster_5 and the route that will be found for cluster_13\n",
    "# Get the name of the last location and assign it to start_location_name\n",
    "start_location_name = last_state_5['name']\n",
    "# Get the second location in cluster_13 and assign it to end_location_name\n",
    "end_location_name = cluster_13[1] #Define end location \n",
    "# Get the name of the second location and assign it to end_location_name\n",
    "end_location_name = end_location_name['name']\n",
    "# Find the dictionary in cluster_5 that has the name of the last location and assign it to start_location\n",
    "# If there is no such dictionary, assign None to start_location\n",
    "start_location = next((d for d in cluster_5 if d[\"name\"] == start_location_name), None) #Pull location by name from cluster\n",
    "# Find the dictionary in cluster_13 that has the name of the second location and assign it to end_location\n",
    "# If there is no such dictionary, assign None to end_location\n",
    "end_location = next((d for d in cluster_13 if d[\"name\"] == end_location_name), None) #Pull location by name from cluster\n",
    "# Check if start_location is None\n",
    "if start_location is None:\n",
    "    # If yes, print a message that there is no location named start_location_name in cluster_13\n",
    "    print(f\"No location named {start_location_name} found in cluster_13\")\n",
    "# Otherwise\n",
    "else:\n",
    "    # Create a new list of dictionaries from cluster_13 that excludes the start location\n",
    "    cluster_13 = [location for location in cluster_13 if location[\"name\"] != start_location_name]\n",
    "# Add the start location to cluster_13\n",
    "cluster_13.append(start_location) #remove start_location_name\n",
    "# Create a copy of cluster_13 without the start_location for generating the permutations\n",
    "cluster_13_without_start = [location for location in cluster_13 if location[\"name\"] != start_location_name] #create list without start_location name\n",
    "# Find the dictionary in cluster_13 that has the name \"DC\" and assign it to dc_location\n",
    "dc_location = next((d for d in cluster_13 if d[\"name\"] == \"DC\"), None) #Find DC\n",
    "# Create a list of all possible permutations of the dictionaries in cluster_13_without_start\n",
    "routes = list(itertools.permutations(cluster_13_without_start)) #create permutations without start\n",
    "# Add the start location as the first element of each permutation\n",
    "routes = [(start_location,) + route for route in routes] #add start location as beginning of all permutations\n",
    "# Add the dc_location as the last element of each permutation\n",
    "routes = [route + (dc_location,) for route in routes] #add end location to the end of all permutations\n",
    "# Check if end_location is None\n",
    "if end_location is None:\n",
    "    # If yes, print a message that there is no location named end_location_name in cluster_13\n",
    "    print(f\"No location named {end_location_name} found in cluster_13\")\n",
    "# Otherwise\n",
    "else:\n",
    "    # Create a new list of dictionaries from cluster_13 that excludes the end location\n",
    "    cluster_13 = [location for location in cluster_13 if location[\"name\"] != end_location_name]\n",
    "    # Add the end location to cluster_13\n",
    "    cluster_13.append(end_location)\n",
    "    # Create a copy of cluster_13 without the end_location for generating the permutations\n",
    "    cluster_13_without_end = [location for location in cluster_13 if location[\"name\"] != end_location_name]\n",
    "    # Create a list of all possible permutations of the dictionaries in cluster_13_without_end\n",
    "    routes = list(itertools.permutations(cluster_13_without_end))\n",
    "    # Add the end location as the last element of each permutation\n",
    "    routes = [route + (end_location,) for route in routes]\n",
    "# Initialize an empty list to store the distances of each route\n",
    "distances = []\n",
    "# Loop through each route in routes\n",
    "for route in routes:\n",
    "    # Initialize a variable to store the total distance of the route\n",
    "    total_distance = 0\n",
    "    # Loop through each pair of consecutive locations in the route\n",
    "    for i in range(len(route) - 1):\n",
    "        # Assign the first location to location1\n",
    "        location1 = route[i]\n",
    "        # Assign the second location to location2\n",
    "        location2 = route[i + 1]\n",
    "        # Calculate the geodesic distance between the two locations in miles\n",
    "        distance = geodesic((location1['latitude'], location1['longitude']),\n",
    "                            (location2['latitude'], location2['longitude'])).miles\n",
    "        # Add the distance to the total distance of the route\n",
    "        total_distance += distance\n",
    "    # Append the total distance of the route to the distances list\n",
    "    distances.append(total_distance)\n",
    "# Find the minimum distance in the distances list\n",
    "min_distance13 = min(distances)\n",
    "\n",
    "# Define and assign a value to min_route13 in the global scope\n",
    "min_route13 = routes[distances.index(min_distance13)]\n",
    "# Print the names of the locations in the shortest route and the total distance\n",
    "\n",
    "print(f\"Shortest Route: {[location['name'] for location in min_route13]}, Total Distance: {min_distance13:.2f} miles\")# your system can overload really easily when running permutations, try to make your print request as specifc as possible to avoid it outputting too many permutations. Make sure to only request min_distance5 and min_route5, don't request routes or distance."
   ],
   "metadata": {
    "collapsed": false,
    "ExecuteTime": {
     "end_time": "2024-01-25T23:49:14.442122600Z",
     "start_time": "2024-01-25T23:49:13.969599900Z"
    }
   },
   "id": "6c8a0769e80d8af3",
   "execution_count": 22
  },
  {
   "cell_type": "code",
   "outputs": [],
   "source": [],
   "metadata": {
    "collapsed": false,
    "ExecuteTime": {
     "end_time": "2024-01-25T23:49:14.444278600Z",
     "start_time": "2024-01-25T23:49:14.440196Z"
    }
   },
   "id": "4d2af8eab4900d98",
   "execution_count": 22
  },
  {
   "cell_type": "code",
   "outputs": [
    {
     "name": "stdout",
     "output_type": "stream",
     "text": [
      "The Politician will have to travel a total of 19093.20 miles to visit every state capital while traveling from Iowa to DC. \n",
      "\n",
      "Politcian's Complete Campaign Route\n",
      "\n",
      "['Iowa', 'Minnesota', 'Nebraska', 'Kansas', 'Missouri', 'Oklahoma']\n",
      "['Wyoming', 'South Dakota', 'North Dakota']\n",
      "['Montana', 'Idaho', 'Utah']\n",
      "['Alaska']\n",
      "['Washington', 'Oregon']\n",
      "['Nevada', 'California']\n",
      "['Hawaii']\n",
      "['Arizona', 'New Mexico', 'Colorado']\n",
      "['Texas', 'Louisiana', 'Mississippi', 'Arkansas']\n",
      "['Alabama', 'Georgia', 'Florida']\n",
      "['South Carolina', 'North Carolina', 'West Virginia']\n",
      "['Ohio', 'Michigan', 'Wisconsin', 'Illinois', 'Indiana', 'Kentucky', 'Tennessee']\n",
      "['New York', 'Connecticut', 'Rhode Island', 'Massachusetts', 'New Hampshire', 'Vermont', 'Maine']\n",
      "['New Jersey', 'Pennsylvania', 'Delaware', 'Maryland', 'Virginia', 'DC ']\n"
     ]
    }
   ],
   "source": [
    "# This section will calcute the total distance and output the route the politician must travel\n",
    "# Calculate the total distance of all the shortest routes of each cluster\n",
    "total_distance = (min_distance0 + min_distance1 +min_distance2 +min_distance3 +min_distance4 +min_distance5 + min_distance6 + min_distance7 + min_distance8 + min_distance9 + min_distance10 + min_distance11 + min_distance12 + min_distance13)\n",
    "\n",
    "\n",
    "# Print the total distance and the starting and ending points of the journey\n",
    "print(f\"The Politician will have to travel a total of {total_distance:.2f} miles to visit every state capital while traveling from Iowa to DC. \\n\")\n",
    "\n",
    "print(\"Politcian's Complete Campaign Route\\n\")\n",
    "# Print the names of the locations in the shortest route of each cluster\n",
    "# Cluster 1 corresponds to cluster 7 in the original clustering\n",
    "# Cluster 1 corresponds to cluster 7 in the original clustering\n",
    "print(f\"{[location['name'] for location in min_route7]}\")\n",
    "\n",
    "# Cluster 2 corresponds to cluster 2 in the original clustering\n",
    "print(f\"{[location['name'] for location in min_route2][1:]}\")\n",
    "\n",
    "# Cluster 3 corresponds to cluster 6 in the original clustering\n",
    "print(f\"{[location['name'] for location in min_route6][1:]}\")\n",
    "\n",
    "# Cluster 4 corresponds to cluster 8 in the original clustering\n",
    "print(f\"{[location['name'] for location in min_route8][1:]}\")\n",
    "\n",
    "# Cluster 5 corresponds to cluster 0 in the original clustering\n",
    "print(f\"{[location['name'] for location in min_route0][1:]}\")\n",
    "\n",
    "# Cluster 6 corresponds to cluster 11 in the original clustering\n",
    "print(f\"{[location['name'] for location in min_route11][1:]}\")\n",
    "\n",
    "# Cluster 7 corresponds to cluster 4 in the original clustering\n",
    "print(f\"{[location['name'] for location in min_route4][1:]}\")\n",
    "\n",
    "# Cluster 8 corresponds to cluster 10 in the original clustering\n",
    "print(f\"{[location['name'] for location in min_route10][1:]}\")\n",
    "\n",
    "# Cluster 9 corresponds to cluster 3 in the original clustering\n",
    "print(f\"{[location['name'] for location in min_route3][1:]}\")\n",
    "\n",
    "# Cluster 10 corresponds to cluster 12 in the original clustering\n",
    "print(f\"{[location['name'] for location in min_route12][1:]}\")\n",
    "\n",
    "# Cluster 11 corresponds to cluster 1 in the original clustering\n",
    "print(f\"{[location['name'] for location in min_route1][1:]}\")\n",
    "\n",
    "# Cluster 12 corresponds to cluster 9 in the original clustering\n",
    "print(f\"{[location['name'] for location in min_route9][1:]}\")\n",
    "\n",
    "# Cluster 13 corresponds to cluster 5 in the original clustering\n",
    "print(f\"{[location['name'] for location in min_route5][1:]}\")\n",
    "\n",
    "# Cluster 14 corresponds to cluster 13 in the original clustering\n",
    "print(f\"{[location['name'] for location in min_route13][1:]}\")"
   ],
   "metadata": {
    "collapsed": false,
    "ExecuteTime": {
     "end_time": "2024-01-25T23:49:14.460190500Z",
     "start_time": "2024-01-25T23:49:14.447504100Z"
    }
   },
   "id": "c1e9ce418a98f183",
   "execution_count": 23
  },
  {
   "cell_type": "code",
   "outputs": [],
   "source": [],
   "metadata": {
    "collapsed": false,
    "ExecuteTime": {
     "end_time": "2024-01-25T23:49:14.461267100Z",
     "start_time": "2024-01-25T23:49:14.455335500Z"
    }
   },
   "id": "4e6386dbc796417a",
   "execution_count": 23
  },
  {
   "cell_type": "code",
   "outputs": [],
   "source": [
    "import unittest\n",
    "\n",
    "class TestRoutes(unittest.TestCase):\n",
    "\n",
    "    def test_end_location_is_dc(self):\n",
    "        end_location_name = cluster_13[-1] #Define end location \n",
    "        # Get the name of the second location and assign it to end_location_name\n",
    "        end_location_name = end_location_name['name']\n",
    "        # Strip any leading or trailing spaces from the name\n",
    "        end_location_name = end_location_name.strip()\n",
    "        # Assert that the name of the last location is \"DC\"\n",
    "        self.assertEqual(end_location_name, \"DC\", \"The end location is not DC\")\n",
    "        # Assert that the name of the last location is \"DC\"\n",
    "        self.assertEqual(end_location_name, \"DC\", \"The end location is not DC\")"
   ],
   "metadata": {
    "collapsed": false,
    "ExecuteTime": {
     "end_time": "2024-01-25T23:49:14.511463600Z",
     "start_time": "2024-01-25T23:49:14.460190500Z"
    }
   },
   "id": "6507021b1251c62d",
   "execution_count": 24
  },
  {
   "cell_type": "code",
   "outputs": [
    {
     "name": "stderr",
     "output_type": "stream",
     "text": [
      "test_end_location_is_dc (__main__.TestRoutes.test_end_location_is_dc) ... ok\n",
      "\n",
      "----------------------------------------------------------------------\n",
      "Ran 1 test in 0.001s\n",
      "\n",
      "OK\n"
     ]
    },
    {
     "data": {
      "text/plain": "<unittest.main.TestProgram at 0x1e331824320>"
     },
     "execution_count": 25,
     "metadata": {},
     "output_type": "execute_result"
    }
   ],
   "source": [
    "import unittest\n",
    "unittest.main(argv=[''], verbosity=2, exit=False)"
   ],
   "metadata": {
    "collapsed": false,
    "ExecuteTime": {
     "end_time": "2024-01-25T23:49:14.533553500Z",
     "start_time": "2024-01-25T23:49:14.471408100Z"
    }
   },
   "id": "f5cb9ae73b0067fb",
   "execution_count": 25
  },
  {
   "cell_type": "code",
   "outputs": [],
   "source": [],
   "metadata": {
    "collapsed": false,
    "ExecuteTime": {
     "end_time": "2024-01-25T23:49:14.534591100Z",
     "start_time": "2024-01-25T23:49:14.487129800Z"
    }
   },
   "id": "51ba047feb657cfe",
   "execution_count": 25
  }
 ],
 "metadata": {
  "kernelspec": {
   "display_name": "Python 3",
   "language": "python",
   "name": "python3"
  },
  "language_info": {
   "codemirror_mode": {
    "name": "ipython",
    "version": 2
   },
   "file_extension": ".py",
   "mimetype": "text/x-python",
   "name": "python",
   "nbconvert_exporter": "python",
   "pygments_lexer": "ipython2",
   "version": "2.7.6"
  }
 },
 "nbformat": 4,
 "nbformat_minor": 5
}
